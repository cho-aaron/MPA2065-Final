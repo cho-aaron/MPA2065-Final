{
 "cells": [
  {
   "cell_type": "markdown",
   "id": "ffa239be-76c2-4502-9099-c8f503662e8e",
   "metadata": {},
   "source": [
    "### <center><h1>Final Project: Energy Efficiency and Renewables Consumption</h1></center>"
   ]
  },
  {
   "cell_type": "markdown",
   "id": "06b55524-0641-4ee0-9e1c-b94ff77d3592",
   "metadata": {
    "tags": []
   },
   "source": [
    "# Loading in data and libraries\n",
    "For our project, we'll be using four datasets: GDP (World Bank), Primary Energy Consumption (BP Energy Review), Carbon Emissions (BP Energy Review), Renewable Energy Consumption (BP Energy Review)"
   ]
  },
  {
   "cell_type": "code",
   "execution_count": 1,
   "id": "6dea25d4-e864-439d-9433-18aec6dce623",
   "metadata": {},
   "outputs": [
    {
     "name": "stderr",
     "output_type": "stream",
     "text": [
      "\n",
      "Attaching package: ‘dplyr’\n",
      "\n",
      "\n",
      "The following objects are masked from ‘package:stats’:\n",
      "\n",
      "    filter, lag\n",
      "\n",
      "\n",
      "The following objects are masked from ‘package:base’:\n",
      "\n",
      "    intersect, setdiff, setequal, union\n",
      "\n",
      "\n",
      "Warning message in system(\"timedatectl\", intern = TRUE):\n",
      "“running command 'timedatectl' had status 1”\n",
      "── \u001b[1mAttaching packages\u001b[22m ─────────────────────────────────────── tidyverse 1.3.1 ──\n",
      "\n",
      "\u001b[32m✔\u001b[39m \u001b[34mtibble \u001b[39m 3.1.3     \u001b[32m✔\u001b[39m \u001b[34mstringr\u001b[39m 1.4.0\n",
      "\u001b[32m✔\u001b[39m \u001b[34mreadr  \u001b[39m 1.4.0     \u001b[32m✔\u001b[39m \u001b[34mforcats\u001b[39m 0.5.1\n",
      "\u001b[32m✔\u001b[39m \u001b[34mpurrr  \u001b[39m 0.3.4     \n",
      "\n",
      "── \u001b[1mConflicts\u001b[22m ────────────────────────────────────────── tidyverse_conflicts() ──\n",
      "\u001b[31m✖\u001b[39m \u001b[34mdplyr\u001b[39m::\u001b[32mfilter()\u001b[39m masks \u001b[34mstats\u001b[39m::filter()\n",
      "\u001b[31m✖\u001b[39m \u001b[34mdplyr\u001b[39m::\u001b[32mlag()\u001b[39m    masks \u001b[34mstats\u001b[39m::lag()\n",
      "\n"
     ]
    }
   ],
   "source": [
    "library(ggplot2)\n",
    "library(dplyr)\n",
    "library(tidyr)\n",
    "library(tidyverse)\n",
    "library(purrr)\n",
    "library(broom)\n",
    "\n",
    "\n",
    "renew_df <- read.csv(\"Renewables Consumption.csv\")\n",
    "primen_df <- read.csv(\"Primary Energy Data.csv\")\n",
    "carbon_df <- read.csv(\"Carbon Emissions Data.csv\")\n",
    "gdp1_df <- read.csv(\"API_NY.GDP.MKTP.CD_DS2_en_csv_v2_3358362.csv\")"
   ]
  },
  {
   "cell_type": "markdown",
   "id": "9ff1b20d-06c6-4551-be92-3b94fbc6cd3f",
   "metadata": {},
   "source": [
    "# Renewable Energy Consumption\n",
    "For this dataset there were many instances of missing datatypes, requiring that it be cleaned. To summarize, we essentially took a subset between the years 2000-2020 for countries with complete data (no NAs), referring to the direct specifications on the data file provided on instances of \"^\" and \"-\". Particularly in the case of \"^\" the file specified that it was $\\le$ 0.005, so all instances were just replaced with 0.005 for consistency. We then changed the datatype of the colums from characters to a numerical datatype, in this case \"double\" as there are decimals. Lastly, we removed the rows without any data in them that were included in the dataset. Data was recorded as Exajoules in this case 10<sup>18."
   ]
  },
  {
   "cell_type": "code",
   "execution_count": 2,
   "id": "b8338458-32f7-47a0-945e-269c5994c366",
   "metadata": {},
   "outputs": [
    {
     "data": {
      "text/html": [
       "<table class=\"dataframe\">\n",
       "<caption>A data.frame: 6 × 22</caption>\n",
       "<thead>\n",
       "\t<tr><th></th><th scope=col>Country.Name</th><th scope=col>X2000</th><th scope=col>X2001</th><th scope=col>X2002</th><th scope=col>X2003</th><th scope=col>X2004</th><th scope=col>X2005</th><th scope=col>X2006</th><th scope=col>X2007</th><th scope=col>X2008</th><th scope=col>⋯</th><th scope=col>X2011</th><th scope=col>X2012</th><th scope=col>X2013</th><th scope=col>X2014</th><th scope=col>X2015</th><th scope=col>X2016</th><th scope=col>X2017</th><th scope=col>X2018</th><th scope=col>X2019</th><th scope=col>X2020</th></tr>\n",
       "\t<tr><th></th><th scope=col>&lt;chr&gt;</th><th scope=col>&lt;dbl&gt;</th><th scope=col>&lt;dbl&gt;</th><th scope=col>&lt;dbl&gt;</th><th scope=col>&lt;dbl&gt;</th><th scope=col>&lt;dbl&gt;</th><th scope=col>&lt;dbl&gt;</th><th scope=col>&lt;dbl&gt;</th><th scope=col>&lt;dbl&gt;</th><th scope=col>&lt;dbl&gt;</th><th scope=col>⋯</th><th scope=col>&lt;dbl&gt;</th><th scope=col>&lt;dbl&gt;</th><th scope=col>&lt;dbl&gt;</th><th scope=col>&lt;dbl&gt;</th><th scope=col>&lt;dbl&gt;</th><th scope=col>&lt;dbl&gt;</th><th scope=col>&lt;dbl&gt;</th><th scope=col>&lt;dbl&gt;</th><th scope=col>&lt;dbl&gt;</th><th scope=col>&lt;dbl&gt;</th></tr>\n",
       "</thead>\n",
       "<tbody>\n",
       "\t<tr><th scope=row>1</th><td>Canada             </td><td>0.10</td><td>0.11</td><td>0.11</td><td>0.11</td><td>0.11</td><td>0.11</td><td>0.12</td><td>0.14</td><td>0.15</td><td>⋯</td><td>0.26</td><td>0.29</td><td>0.30</td><td>0.31</td><td>0.44</td><td>0.49</td><td>0.46</td><td>0.51</td><td>0.51</td><td>0.54</td></tr>\n",
       "\t<tr><th scope=row>2</th><td>Mexico             </td><td>0.07</td><td>0.07</td><td>0.06</td><td>0.07</td><td>0.07</td><td>0.08</td><td>0.08</td><td>0.08</td><td>0.08</td><td>⋯</td><td>0.09</td><td>0.10</td><td>0.11</td><td>0.13</td><td>0.16</td><td>0.17</td><td>0.19</td><td>0.24</td><td>0.30</td><td>0.36</td></tr>\n",
       "\t<tr><th scope=row>3</th><td>US                 </td><td>0.86</td><td>0.88</td><td>0.99</td><td>1.05</td><td>1.14</td><td>1.22</td><td>1.44</td><td>1.65</td><td>2.06</td><td>⋯</td><td>3.03</td><td>3.27</td><td>3.70</td><td>3.98</td><td>4.19</td><td>4.74</td><td>5.17</td><td>5.44</td><td>5.71</td><td>6.15</td></tr>\n",
       "\t<tr><th scope=row>4</th><td>Total North America</td><td>1.03</td><td>1.05</td><td>1.16</td><td>1.22</td><td>1.32</td><td>1.42</td><td>1.64</td><td>1.88</td><td>2.29</td><td>⋯</td><td>3.38</td><td>3.66</td><td>4.10</td><td>4.42</td><td>4.78</td><td>5.41</td><td>5.82</td><td>6.19</td><td>6.52</td><td>7.04</td></tr>\n",
       "\t<tr><th scope=row>5</th><td>Argentina          </td><td>0.01</td><td>0.01</td><td>0.01</td><td>0.01</td><td>0.01</td><td>0.01</td><td>0.02</td><td>0.02</td><td>0.02</td><td>⋯</td><td>0.05</td><td>0.07</td><td>0.07</td><td>0.08</td><td>0.08</td><td>0.08</td><td>0.09</td><td>0.08</td><td>0.12</td><td>0.13</td></tr>\n",
       "\t<tr><th scope=row>6</th><td>Brazil             </td><td>0.32</td><td>0.31</td><td>0.35</td><td>0.35</td><td>0.38</td><td>0.42</td><td>0.41</td><td>0.55</td><td>0.69</td><td>⋯</td><td>0.85</td><td>0.87</td><td>1.02</td><td>1.19</td><td>1.41</td><td>1.46</td><td>1.59</td><td>1.80</td><td>1.99</td><td>2.01</td></tr>\n",
       "</tbody>\n",
       "</table>\n"
      ],
      "text/latex": [
       "A data.frame: 6 × 22\n",
       "\\begin{tabular}{r|lllllllllllllllllllll}\n",
       "  & Country.Name & X2000 & X2001 & X2002 & X2003 & X2004 & X2005 & X2006 & X2007 & X2008 & ⋯ & X2011 & X2012 & X2013 & X2014 & X2015 & X2016 & X2017 & X2018 & X2019 & X2020\\\\\n",
       "  & <chr> & <dbl> & <dbl> & <dbl> & <dbl> & <dbl> & <dbl> & <dbl> & <dbl> & <dbl> & ⋯ & <dbl> & <dbl> & <dbl> & <dbl> & <dbl> & <dbl> & <dbl> & <dbl> & <dbl> & <dbl>\\\\\n",
       "\\hline\n",
       "\t1 & Canada              & 0.10 & 0.11 & 0.11 & 0.11 & 0.11 & 0.11 & 0.12 & 0.14 & 0.15 & ⋯ & 0.26 & 0.29 & 0.30 & 0.31 & 0.44 & 0.49 & 0.46 & 0.51 & 0.51 & 0.54\\\\\n",
       "\t2 & Mexico              & 0.07 & 0.07 & 0.06 & 0.07 & 0.07 & 0.08 & 0.08 & 0.08 & 0.08 & ⋯ & 0.09 & 0.10 & 0.11 & 0.13 & 0.16 & 0.17 & 0.19 & 0.24 & 0.30 & 0.36\\\\\n",
       "\t3 & US                  & 0.86 & 0.88 & 0.99 & 1.05 & 1.14 & 1.22 & 1.44 & 1.65 & 2.06 & ⋯ & 3.03 & 3.27 & 3.70 & 3.98 & 4.19 & 4.74 & 5.17 & 5.44 & 5.71 & 6.15\\\\\n",
       "\t4 & Total North America & 1.03 & 1.05 & 1.16 & 1.22 & 1.32 & 1.42 & 1.64 & 1.88 & 2.29 & ⋯ & 3.38 & 3.66 & 4.10 & 4.42 & 4.78 & 5.41 & 5.82 & 6.19 & 6.52 & 7.04\\\\\n",
       "\t5 & Argentina           & 0.01 & 0.01 & 0.01 & 0.01 & 0.01 & 0.01 & 0.02 & 0.02 & 0.02 & ⋯ & 0.05 & 0.07 & 0.07 & 0.08 & 0.08 & 0.08 & 0.09 & 0.08 & 0.12 & 0.13\\\\\n",
       "\t6 & Brazil              & 0.32 & 0.31 & 0.35 & 0.35 & 0.38 & 0.42 & 0.41 & 0.55 & 0.69 & ⋯ & 0.85 & 0.87 & 1.02 & 1.19 & 1.41 & 1.46 & 1.59 & 1.80 & 1.99 & 2.01\\\\\n",
       "\\end{tabular}\n"
      ],
      "text/markdown": [
       "\n",
       "A data.frame: 6 × 22\n",
       "\n",
       "| <!--/--> | Country.Name &lt;chr&gt; | X2000 &lt;dbl&gt; | X2001 &lt;dbl&gt; | X2002 &lt;dbl&gt; | X2003 &lt;dbl&gt; | X2004 &lt;dbl&gt; | X2005 &lt;dbl&gt; | X2006 &lt;dbl&gt; | X2007 &lt;dbl&gt; | X2008 &lt;dbl&gt; | ⋯ ⋯ | X2011 &lt;dbl&gt; | X2012 &lt;dbl&gt; | X2013 &lt;dbl&gt; | X2014 &lt;dbl&gt; | X2015 &lt;dbl&gt; | X2016 &lt;dbl&gt; | X2017 &lt;dbl&gt; | X2018 &lt;dbl&gt; | X2019 &lt;dbl&gt; | X2020 &lt;dbl&gt; |\n",
       "|---|---|---|---|---|---|---|---|---|---|---|---|---|---|---|---|---|---|---|---|---|---|\n",
       "| 1 | Canada              | 0.10 | 0.11 | 0.11 | 0.11 | 0.11 | 0.11 | 0.12 | 0.14 | 0.15 | ⋯ | 0.26 | 0.29 | 0.30 | 0.31 | 0.44 | 0.49 | 0.46 | 0.51 | 0.51 | 0.54 |\n",
       "| 2 | Mexico              | 0.07 | 0.07 | 0.06 | 0.07 | 0.07 | 0.08 | 0.08 | 0.08 | 0.08 | ⋯ | 0.09 | 0.10 | 0.11 | 0.13 | 0.16 | 0.17 | 0.19 | 0.24 | 0.30 | 0.36 |\n",
       "| 3 | US                  | 0.86 | 0.88 | 0.99 | 1.05 | 1.14 | 1.22 | 1.44 | 1.65 | 2.06 | ⋯ | 3.03 | 3.27 | 3.70 | 3.98 | 4.19 | 4.74 | 5.17 | 5.44 | 5.71 | 6.15 |\n",
       "| 4 | Total North America | 1.03 | 1.05 | 1.16 | 1.22 | 1.32 | 1.42 | 1.64 | 1.88 | 2.29 | ⋯ | 3.38 | 3.66 | 4.10 | 4.42 | 4.78 | 5.41 | 5.82 | 6.19 | 6.52 | 7.04 |\n",
       "| 5 | Argentina           | 0.01 | 0.01 | 0.01 | 0.01 | 0.01 | 0.01 | 0.02 | 0.02 | 0.02 | ⋯ | 0.05 | 0.07 | 0.07 | 0.08 | 0.08 | 0.08 | 0.09 | 0.08 | 0.12 | 0.13 |\n",
       "| 6 | Brazil              | 0.32 | 0.31 | 0.35 | 0.35 | 0.38 | 0.42 | 0.41 | 0.55 | 0.69 | ⋯ | 0.85 | 0.87 | 1.02 | 1.19 | 1.41 | 1.46 | 1.59 | 1.80 | 1.99 | 2.01 |\n",
       "\n"
      ],
      "text/plain": [
       "  Country.Name        X2000 X2001 X2002 X2003 X2004 X2005 X2006 X2007 X2008 ⋯\n",
       "1 Canada              0.10  0.11  0.11  0.11  0.11  0.11  0.12  0.14  0.15  ⋯\n",
       "2 Mexico              0.07  0.07  0.06  0.07  0.07  0.08  0.08  0.08  0.08  ⋯\n",
       "3 US                  0.86  0.88  0.99  1.05  1.14  1.22  1.44  1.65  2.06  ⋯\n",
       "4 Total North America 1.03  1.05  1.16  1.22  1.32  1.42  1.64  1.88  2.29  ⋯\n",
       "5 Argentina           0.01  0.01  0.01  0.01  0.01  0.01  0.02  0.02  0.02  ⋯\n",
       "6 Brazil              0.32  0.31  0.35  0.35  0.38  0.42  0.41  0.55  0.69  ⋯\n",
       "  X2011 X2012 X2013 X2014 X2015 X2016 X2017 X2018 X2019 X2020\n",
       "1 0.26  0.29  0.30  0.31  0.44  0.49  0.46  0.51  0.51  0.54 \n",
       "2 0.09  0.10  0.11  0.13  0.16  0.17  0.19  0.24  0.30  0.36 \n",
       "3 3.03  3.27  3.70  3.98  4.19  4.74  5.17  5.44  5.71  6.15 \n",
       "4 3.38  3.66  4.10  4.42  4.78  5.41  5.82  6.19  6.52  7.04 \n",
       "5 0.05  0.07  0.07  0.08  0.08  0.08  0.09  0.08  0.12  0.13 \n",
       "6 0.85  0.87  1.02  1.19  1.41  1.46  1.59  1.80  1.99  2.01 "
      ]
     },
     "metadata": {},
     "output_type": "display_data"
    }
   ],
   "source": [
    "renew_df <- renew_df[-c(57),]                                                           # This row was the USSR, did not get removed even when we used complete.cases, classic Soviets\n",
    "renew_df <- subset (renew_df, select = -c(X1965:X1999,X2020.1,X2009.19,X2020.2))        # Selecting columns for the years 2000-2020\n",
    "renew_df <- renew_df[complete.cases(renew_df), ]                                        # Filtering rows to select only those without missing datatypes\n",
    "renew_df <- replace(renew_df, renew_df == \"^\", 0.005)                                   # Specified by BP World Energy Review\n",
    "renew_df <- replace(renew_df, renew_df == \"-\", 0)                                       # Specified by BP World Energy Review\n",
    "y <- c(2:22)\n",
    "renew_df[ , y] <- apply(renew_df[ , y], 2,                                              # Changing type of data to numeric\n",
    "                 function(x) as.numeric(as.character(x)))\n",
    "colnames(renew_df)[1] <- \"Country.Name\"\n",
    "\n",
    "renew_df <- renew_df[-c(104:144), ]                                                     # Removing empty rows\n",
    "head(renew_df)                      \n",
    "\n",
    "          "
   ]
  },
  {
   "cell_type": "markdown",
   "id": "4f730d13-e9c4-4a4b-b729-851daca11819",
   "metadata": {},
   "source": [
    "# Primary Energy Consumption"
   ]
  },
  {
   "cell_type": "markdown",
   "id": "730686ac-6ecd-4bbe-b7e9-ffe0d438060b",
   "metadata": {},
   "source": [
    "For this dataset, there were relatively few instances of missing datatypes. Many of the same processes that were conducted on the Renewable Energy dataframe were applied here, selecting the years 2000-2020, changing the type of data to numeric, and removing any rows containing missing datatypes. Data was reported in exajoules 10<sup>18."
   ]
  },
  {
   "cell_type": "code",
   "execution_count": 3,
   "id": "a24f485e-9d4a-4604-88e2-4da79440e6b6",
   "metadata": {},
   "outputs": [
    {
     "data": {
      "text/html": [
       "<table class=\"dataframe\">\n",
       "<caption>A data.frame: 6 × 22</caption>\n",
       "<thead>\n",
       "\t<tr><th></th><th scope=col>Country.Name</th><th scope=col>X2000</th><th scope=col>X2001</th><th scope=col>X2002</th><th scope=col>X2003</th><th scope=col>X2004</th><th scope=col>X2005</th><th scope=col>X2006</th><th scope=col>X2007</th><th scope=col>X2008</th><th scope=col>⋯</th><th scope=col>X2011</th><th scope=col>X2012</th><th scope=col>X2013</th><th scope=col>X2014</th><th scope=col>X2015</th><th scope=col>X2016</th><th scope=col>X2017</th><th scope=col>X2018</th><th scope=col>X2019</th><th scope=col>X2020</th></tr>\n",
       "\t<tr><th></th><th scope=col>&lt;chr&gt;</th><th scope=col>&lt;dbl&gt;</th><th scope=col>&lt;dbl&gt;</th><th scope=col>&lt;dbl&gt;</th><th scope=col>&lt;dbl&gt;</th><th scope=col>&lt;dbl&gt;</th><th scope=col>&lt;dbl&gt;</th><th scope=col>&lt;dbl&gt;</th><th scope=col>&lt;dbl&gt;</th><th scope=col>&lt;dbl&gt;</th><th scope=col>⋯</th><th scope=col>&lt;dbl&gt;</th><th scope=col>&lt;dbl&gt;</th><th scope=col>&lt;dbl&gt;</th><th scope=col>&lt;dbl&gt;</th><th scope=col>&lt;dbl&gt;</th><th scope=col>&lt;dbl&gt;</th><th scope=col>&lt;dbl&gt;</th><th scope=col>&lt;dbl&gt;</th><th scope=col>&lt;dbl&gt;</th><th scope=col>&lt;dbl&gt;</th></tr>\n",
       "</thead>\n",
       "<tbody>\n",
       "\t<tr><th scope=row>1</th><td>Canada             </td><td> 12.87</td><td> 12.62</td><td> 13.04</td><td> 13.11</td><td> 13.32</td><td> 13.42</td><td> 13.34</td><td> 13.83</td><td> 13.69</td><td>⋯</td><td> 13.78</td><td> 13.81</td><td> 14.14</td><td> 14.19</td><td> 14.26</td><td> 14.11</td><td> 14.24</td><td> 14.44</td><td> 14.45</td><td> 13.63</td></tr>\n",
       "\t<tr><th scope=row>2</th><td>Mexico             </td><td>  5.86</td><td>  5.79</td><td>  5.98</td><td>  6.03</td><td>  6.35</td><td>  6.76</td><td>  6.97</td><td>  7.01</td><td>  7.16</td><td>⋯</td><td>  7.66</td><td>  7.71</td><td>  7.74</td><td>  7.70</td><td>  7.69</td><td>  7.79</td><td>  7.90</td><td>  7.84</td><td>  7.55</td><td>  6.48</td></tr>\n",
       "\t<tr><th scope=row>3</th><td>US                 </td><td> 95.13</td><td> 92.89</td><td> 94.23</td><td> 94.52</td><td> 96.38</td><td> 96.42</td><td> 95.64</td><td> 96.97</td><td> 94.58</td><td>⋯</td><td> 92.05</td><td> 89.62</td><td> 92.04</td><td> 92.99</td><td> 92.09</td><td> 91.96</td><td> 92.26</td><td> 95.64</td><td> 94.90</td><td> 87.79</td></tr>\n",
       "\t<tr><th scope=row>4</th><td>Total North America</td><td>113.87</td><td>111.30</td><td>113.25</td><td>113.67</td><td>116.05</td><td>116.60</td><td>115.95</td><td>117.80</td><td>115.42</td><td>⋯</td><td>113.49</td><td>111.14</td><td>113.92</td><td>114.88</td><td>114.04</td><td>113.85</td><td>114.40</td><td>117.92</td><td>116.90</td><td>107.90</td></tr>\n",
       "\t<tr><th scope=row>5</th><td>Argentina          </td><td>  2.55</td><td>  2.49</td><td>  2.39</td><td>  2.55</td><td>  2.71</td><td>  2.87</td><td>  3.02</td><td>  3.16</td><td>  3.20</td><td>⋯</td><td>  3.34</td><td>  3.46</td><td>  3.59</td><td>  3.59</td><td>  3.66</td><td>  3.63</td><td>  3.64</td><td>  3.59</td><td>  3.38</td><td>  3.15</td></tr>\n",
       "\t<tr><th scope=row>6</th><td>Brazil             </td><td>  8.04</td><td>  7.87</td><td>  8.06</td><td>  8.20</td><td>  8.60</td><td>  8.84</td><td>  9.06</td><td>  9.61</td><td> 10.03</td><td>⋯</td><td> 11.46</td><td> 11.67</td><td> 12.10</td><td> 12.38</td><td> 12.20</td><td> 11.89</td><td> 12.04</td><td> 12.12</td><td> 12.42</td><td> 12.01</td></tr>\n",
       "</tbody>\n",
       "</table>\n"
      ],
      "text/latex": [
       "A data.frame: 6 × 22\n",
       "\\begin{tabular}{r|lllllllllllllllllllll}\n",
       "  & Country.Name & X2000 & X2001 & X2002 & X2003 & X2004 & X2005 & X2006 & X2007 & X2008 & ⋯ & X2011 & X2012 & X2013 & X2014 & X2015 & X2016 & X2017 & X2018 & X2019 & X2020\\\\\n",
       "  & <chr> & <dbl> & <dbl> & <dbl> & <dbl> & <dbl> & <dbl> & <dbl> & <dbl> & <dbl> & ⋯ & <dbl> & <dbl> & <dbl> & <dbl> & <dbl> & <dbl> & <dbl> & <dbl> & <dbl> & <dbl>\\\\\n",
       "\\hline\n",
       "\t1 & Canada              &  12.87 &  12.62 &  13.04 &  13.11 &  13.32 &  13.42 &  13.34 &  13.83 &  13.69 & ⋯ &  13.78 &  13.81 &  14.14 &  14.19 &  14.26 &  14.11 &  14.24 &  14.44 &  14.45 &  13.63\\\\\n",
       "\t2 & Mexico              &   5.86 &   5.79 &   5.98 &   6.03 &   6.35 &   6.76 &   6.97 &   7.01 &   7.16 & ⋯ &   7.66 &   7.71 &   7.74 &   7.70 &   7.69 &   7.79 &   7.90 &   7.84 &   7.55 &   6.48\\\\\n",
       "\t3 & US                  &  95.13 &  92.89 &  94.23 &  94.52 &  96.38 &  96.42 &  95.64 &  96.97 &  94.58 & ⋯ &  92.05 &  89.62 &  92.04 &  92.99 &  92.09 &  91.96 &  92.26 &  95.64 &  94.90 &  87.79\\\\\n",
       "\t4 & Total North America & 113.87 & 111.30 & 113.25 & 113.67 & 116.05 & 116.60 & 115.95 & 117.80 & 115.42 & ⋯ & 113.49 & 111.14 & 113.92 & 114.88 & 114.04 & 113.85 & 114.40 & 117.92 & 116.90 & 107.90\\\\\n",
       "\t5 & Argentina           &   2.55 &   2.49 &   2.39 &   2.55 &   2.71 &   2.87 &   3.02 &   3.16 &   3.20 & ⋯ &   3.34 &   3.46 &   3.59 &   3.59 &   3.66 &   3.63 &   3.64 &   3.59 &   3.38 &   3.15\\\\\n",
       "\t6 & Brazil              &   8.04 &   7.87 &   8.06 &   8.20 &   8.60 &   8.84 &   9.06 &   9.61 &  10.03 & ⋯ &  11.46 &  11.67 &  12.10 &  12.38 &  12.20 &  11.89 &  12.04 &  12.12 &  12.42 &  12.01\\\\\n",
       "\\end{tabular}\n"
      ],
      "text/markdown": [
       "\n",
       "A data.frame: 6 × 22\n",
       "\n",
       "| <!--/--> | Country.Name &lt;chr&gt; | X2000 &lt;dbl&gt; | X2001 &lt;dbl&gt; | X2002 &lt;dbl&gt; | X2003 &lt;dbl&gt; | X2004 &lt;dbl&gt; | X2005 &lt;dbl&gt; | X2006 &lt;dbl&gt; | X2007 &lt;dbl&gt; | X2008 &lt;dbl&gt; | ⋯ ⋯ | X2011 &lt;dbl&gt; | X2012 &lt;dbl&gt; | X2013 &lt;dbl&gt; | X2014 &lt;dbl&gt; | X2015 &lt;dbl&gt; | X2016 &lt;dbl&gt; | X2017 &lt;dbl&gt; | X2018 &lt;dbl&gt; | X2019 &lt;dbl&gt; | X2020 &lt;dbl&gt; |\n",
       "|---|---|---|---|---|---|---|---|---|---|---|---|---|---|---|---|---|---|---|---|---|---|\n",
       "| 1 | Canada              |  12.87 |  12.62 |  13.04 |  13.11 |  13.32 |  13.42 |  13.34 |  13.83 |  13.69 | ⋯ |  13.78 |  13.81 |  14.14 |  14.19 |  14.26 |  14.11 |  14.24 |  14.44 |  14.45 |  13.63 |\n",
       "| 2 | Mexico              |   5.86 |   5.79 |   5.98 |   6.03 |   6.35 |   6.76 |   6.97 |   7.01 |   7.16 | ⋯ |   7.66 |   7.71 |   7.74 |   7.70 |   7.69 |   7.79 |   7.90 |   7.84 |   7.55 |   6.48 |\n",
       "| 3 | US                  |  95.13 |  92.89 |  94.23 |  94.52 |  96.38 |  96.42 |  95.64 |  96.97 |  94.58 | ⋯ |  92.05 |  89.62 |  92.04 |  92.99 |  92.09 |  91.96 |  92.26 |  95.64 |  94.90 |  87.79 |\n",
       "| 4 | Total North America | 113.87 | 111.30 | 113.25 | 113.67 | 116.05 | 116.60 | 115.95 | 117.80 | 115.42 | ⋯ | 113.49 | 111.14 | 113.92 | 114.88 | 114.04 | 113.85 | 114.40 | 117.92 | 116.90 | 107.90 |\n",
       "| 5 | Argentina           |   2.55 |   2.49 |   2.39 |   2.55 |   2.71 |   2.87 |   3.02 |   3.16 |   3.20 | ⋯ |   3.34 |   3.46 |   3.59 |   3.59 |   3.66 |   3.63 |   3.64 |   3.59 |   3.38 |   3.15 |\n",
       "| 6 | Brazil              |   8.04 |   7.87 |   8.06 |   8.20 |   8.60 |   8.84 |   9.06 |   9.61 |  10.03 | ⋯ |  11.46 |  11.67 |  12.10 |  12.38 |  12.20 |  11.89 |  12.04 |  12.12 |  12.42 |  12.01 |\n",
       "\n"
      ],
      "text/plain": [
       "  Country.Name        X2000  X2001  X2002  X2003  X2004  X2005  X2006  X2007 \n",
       "1 Canada               12.87  12.62  13.04  13.11  13.32  13.42  13.34  13.83\n",
       "2 Mexico                5.86   5.79   5.98   6.03   6.35   6.76   6.97   7.01\n",
       "3 US                   95.13  92.89  94.23  94.52  96.38  96.42  95.64  96.97\n",
       "4 Total North America 113.87 111.30 113.25 113.67 116.05 116.60 115.95 117.80\n",
       "5 Argentina             2.55   2.49   2.39   2.55   2.71   2.87   3.02   3.16\n",
       "6 Brazil                8.04   7.87   8.06   8.20   8.60   8.84   9.06   9.61\n",
       "  X2008  ⋯ X2011  X2012  X2013  X2014  X2015  X2016  X2017  X2018  X2019 \n",
       "1  13.69 ⋯  13.78  13.81  14.14  14.19  14.26  14.11  14.24  14.44  14.45\n",
       "2   7.16 ⋯   7.66   7.71   7.74   7.70   7.69   7.79   7.90   7.84   7.55\n",
       "3  94.58 ⋯  92.05  89.62  92.04  92.99  92.09  91.96  92.26  95.64  94.90\n",
       "4 115.42 ⋯ 113.49 111.14 113.92 114.88 114.04 113.85 114.40 117.92 116.90\n",
       "5   3.20 ⋯   3.34   3.46   3.59   3.59   3.66   3.63   3.64   3.59   3.38\n",
       "6  10.03 ⋯  11.46  11.67  12.10  12.38  12.20  11.89  12.04  12.12  12.42\n",
       "  X2020 \n",
       "1  13.63\n",
       "2   6.48\n",
       "3  87.79\n",
       "4 107.90\n",
       "5   3.15\n",
       "6  12.01"
      ]
     },
     "metadata": {},
     "output_type": "display_data"
    }
   ],
   "source": [
    "primen_df <- primen_df[-c(57),]                                                            # Removing the USSR\n",
    "primen_df <- subset (primen_df, select = -c(X1965:X1999,X2020.1,X2009.19,X2020.2))         # Selecting columns for years 2000-2020\n",
    "primen_df <- primen_df[complete.cases(primen_df), ]                                        # Filtering rows to select only those without missing datatypes\n",
    "i <- c(2:22)                                                                               \n",
    "primen_df[ , i] <- apply(primen_df[ , i], 2,                                               # Changing type of data to numeric\n",
    "                    function(x) as.numeric(as.character(x)))\n",
    "colnames(primen_df)[1] <- \"Country.Name\"                                                   # Renaming column so dataframes match\n",
    "primen_df <- primen_df[-c(103:110), ]                                                      # Removing empty rows\n",
    "head(primen_df)"
   ]
  },
  {
   "cell_type": "markdown",
   "id": "b9a57f29-e924-4f62-8cb2-f956c4399040",
   "metadata": {},
   "source": [
    "# Carbon Emissions"
   ]
  },
  {
   "cell_type": "markdown",
   "id": "ad76ce23-5851-434c-ab4c-28f01e6f3667",
   "metadata": {},
   "source": [
    "Much like the Primary Energy dataframe, there were few instances of missing datatypes. All the same processes were conducted to clean this data. Emissions were reported in millions of tonnes."
   ]
  },
  {
   "cell_type": "code",
   "execution_count": 4,
   "id": "1ab5b790-1fc9-440b-a916-27604480eb80",
   "metadata": {},
   "outputs": [
    {
     "data": {
      "text/html": [
       "<table class=\"dataframe\">\n",
       "<caption>A data.frame: 6 × 22</caption>\n",
       "<thead>\n",
       "\t<tr><th></th><th scope=col>Country.Name</th><th scope=col>X2000</th><th scope=col>X2001</th><th scope=col>X2002</th><th scope=col>X2003</th><th scope=col>X2004</th><th scope=col>X2005</th><th scope=col>X2006</th><th scope=col>X2007</th><th scope=col>X2008</th><th scope=col>⋯</th><th scope=col>X2011</th><th scope=col>X2012</th><th scope=col>X2013</th><th scope=col>X2014</th><th scope=col>X2015</th><th scope=col>X2016</th><th scope=col>X2017</th><th scope=col>X2018</th><th scope=col>X2019</th><th scope=col>X2020</th></tr>\n",
       "\t<tr><th></th><th scope=col>&lt;chr&gt;</th><th scope=col>&lt;dbl&gt;</th><th scope=col>&lt;dbl&gt;</th><th scope=col>&lt;dbl&gt;</th><th scope=col>&lt;dbl&gt;</th><th scope=col>&lt;dbl&gt;</th><th scope=col>&lt;dbl&gt;</th><th scope=col>&lt;dbl&gt;</th><th scope=col>&lt;dbl&gt;</th><th scope=col>&lt;dbl&gt;</th><th scope=col>⋯</th><th scope=col>&lt;dbl&gt;</th><th scope=col>&lt;dbl&gt;</th><th scope=col>&lt;dbl&gt;</th><th scope=col>&lt;dbl&gt;</th><th scope=col>&lt;dbl&gt;</th><th scope=col>&lt;dbl&gt;</th><th scope=col>&lt;dbl&gt;</th><th scope=col>&lt;dbl&gt;</th><th scope=col>&lt;dbl&gt;</th><th scope=col>&lt;dbl&gt;</th></tr>\n",
       "</thead>\n",
       "<tbody>\n",
       "\t<tr><th scope=row>1</th><td>Canada             </td><td> 538.0</td><td> 540.1</td><td> 553.2</td><td> 562.0</td><td> 559.2</td><td> 560.3</td><td> 553.1</td><td> 578.5</td><td> 564.6</td><td>⋯</td><td> 554.7</td><td> 551.1</td><td> 564.6</td><td> 571.8</td><td> 570.2</td><td> 553.3</td><td> 565.9</td><td> 576.2</td><td> 578.0</td><td> 517.7</td></tr>\n",
       "\t<tr><th scope=row>2</th><td>Mexico             </td><td> 363.0</td><td> 359.4</td><td> 377.0</td><td> 378.0</td><td> 393.6</td><td> 420.3</td><td> 432.9</td><td> 440.7</td><td> 459.4</td><td>⋯</td><td> 473.0</td><td> 476.7</td><td> 483.2</td><td> 471.2</td><td> 475.2</td><td> 480.4</td><td> 486.1</td><td> 477.1</td><td> 459.8</td><td> 373.2</td></tr>\n",
       "\t<tr><th scope=row>3</th><td>US                 </td><td>5745.8</td><td>5656.1</td><td>5677.9</td><td>5743.1</td><td>5844.3</td><td>5879.8</td><td>5802.5</td><td>5892.2</td><td>5710.2</td><td>⋯</td><td>5348.4</td><td>5101.5</td><td>5268.3</td><td>5277.6</td><td>5165.6</td><td>5060.8</td><td>5003.2</td><td>5166.0</td><td>5029.4</td><td>4457.2</td></tr>\n",
       "\t<tr><th scope=row>4</th><td>Total North America</td><td>6646.7</td><td>6555.6</td><td>6608.0</td><td>6683.2</td><td>6797.1</td><td>6860.4</td><td>6788.4</td><td>6911.4</td><td>6734.1</td><td>⋯</td><td>6376.1</td><td>6129.4</td><td>6316.1</td><td>6320.5</td><td>6211.0</td><td>6094.5</td><td>6055.2</td><td>6219.4</td><td>6067.1</td><td>5348.1</td></tr>\n",
       "\t<tr><th scope=row>5</th><td>Argentina          </td><td> 132.6</td><td> 122.0</td><td> 117.7</td><td> 127.6</td><td> 138.8</td><td> 146.6</td><td> 152.5</td><td> 166.2</td><td> 167.7</td><td>⋯</td><td> 174.8</td><td> 183.7</td><td> 189.4</td><td> 189.5</td><td> 192.8</td><td> 191.5</td><td> 189.7</td><td> 187.5</td><td> 175.8</td><td> 164.1</td></tr>\n",
       "\t<tr><th scope=row>6</th><td>Brazil             </td><td> 306.4</td><td> 316.1</td><td> 315.3</td><td> 311.4</td><td> 325.8</td><td> 334.8</td><td> 339.1</td><td> 353.6</td><td> 377.3</td><td>⋯</td><td> 427.2</td><td> 445.7</td><td> 485.8</td><td> 508.0</td><td> 490.7</td><td> 454.1</td><td> 460.6</td><td> 445.5</td><td> 444.9</td><td> 417.5</td></tr>\n",
       "</tbody>\n",
       "</table>\n"
      ],
      "text/latex": [
       "A data.frame: 6 × 22\n",
       "\\begin{tabular}{r|lllllllllllllllllllll}\n",
       "  & Country.Name & X2000 & X2001 & X2002 & X2003 & X2004 & X2005 & X2006 & X2007 & X2008 & ⋯ & X2011 & X2012 & X2013 & X2014 & X2015 & X2016 & X2017 & X2018 & X2019 & X2020\\\\\n",
       "  & <chr> & <dbl> & <dbl> & <dbl> & <dbl> & <dbl> & <dbl> & <dbl> & <dbl> & <dbl> & ⋯ & <dbl> & <dbl> & <dbl> & <dbl> & <dbl> & <dbl> & <dbl> & <dbl> & <dbl> & <dbl>\\\\\n",
       "\\hline\n",
       "\t1 & Canada              &  538.0 &  540.1 &  553.2 &  562.0 &  559.2 &  560.3 &  553.1 &  578.5 &  564.6 & ⋯ &  554.7 &  551.1 &  564.6 &  571.8 &  570.2 &  553.3 &  565.9 &  576.2 &  578.0 &  517.7\\\\\n",
       "\t2 & Mexico              &  363.0 &  359.4 &  377.0 &  378.0 &  393.6 &  420.3 &  432.9 &  440.7 &  459.4 & ⋯ &  473.0 &  476.7 &  483.2 &  471.2 &  475.2 &  480.4 &  486.1 &  477.1 &  459.8 &  373.2\\\\\n",
       "\t3 & US                  & 5745.8 & 5656.1 & 5677.9 & 5743.1 & 5844.3 & 5879.8 & 5802.5 & 5892.2 & 5710.2 & ⋯ & 5348.4 & 5101.5 & 5268.3 & 5277.6 & 5165.6 & 5060.8 & 5003.2 & 5166.0 & 5029.4 & 4457.2\\\\\n",
       "\t4 & Total North America & 6646.7 & 6555.6 & 6608.0 & 6683.2 & 6797.1 & 6860.4 & 6788.4 & 6911.4 & 6734.1 & ⋯ & 6376.1 & 6129.4 & 6316.1 & 6320.5 & 6211.0 & 6094.5 & 6055.2 & 6219.4 & 6067.1 & 5348.1\\\\\n",
       "\t5 & Argentina           &  132.6 &  122.0 &  117.7 &  127.6 &  138.8 &  146.6 &  152.5 &  166.2 &  167.7 & ⋯ &  174.8 &  183.7 &  189.4 &  189.5 &  192.8 &  191.5 &  189.7 &  187.5 &  175.8 &  164.1\\\\\n",
       "\t6 & Brazil              &  306.4 &  316.1 &  315.3 &  311.4 &  325.8 &  334.8 &  339.1 &  353.6 &  377.3 & ⋯ &  427.2 &  445.7 &  485.8 &  508.0 &  490.7 &  454.1 &  460.6 &  445.5 &  444.9 &  417.5\\\\\n",
       "\\end{tabular}\n"
      ],
      "text/markdown": [
       "\n",
       "A data.frame: 6 × 22\n",
       "\n",
       "| <!--/--> | Country.Name &lt;chr&gt; | X2000 &lt;dbl&gt; | X2001 &lt;dbl&gt; | X2002 &lt;dbl&gt; | X2003 &lt;dbl&gt; | X2004 &lt;dbl&gt; | X2005 &lt;dbl&gt; | X2006 &lt;dbl&gt; | X2007 &lt;dbl&gt; | X2008 &lt;dbl&gt; | ⋯ ⋯ | X2011 &lt;dbl&gt; | X2012 &lt;dbl&gt; | X2013 &lt;dbl&gt; | X2014 &lt;dbl&gt; | X2015 &lt;dbl&gt; | X2016 &lt;dbl&gt; | X2017 &lt;dbl&gt; | X2018 &lt;dbl&gt; | X2019 &lt;dbl&gt; | X2020 &lt;dbl&gt; |\n",
       "|---|---|---|---|---|---|---|---|---|---|---|---|---|---|---|---|---|---|---|---|---|---|\n",
       "| 1 | Canada              |  538.0 |  540.1 |  553.2 |  562.0 |  559.2 |  560.3 |  553.1 |  578.5 |  564.6 | ⋯ |  554.7 |  551.1 |  564.6 |  571.8 |  570.2 |  553.3 |  565.9 |  576.2 |  578.0 |  517.7 |\n",
       "| 2 | Mexico              |  363.0 |  359.4 |  377.0 |  378.0 |  393.6 |  420.3 |  432.9 |  440.7 |  459.4 | ⋯ |  473.0 |  476.7 |  483.2 |  471.2 |  475.2 |  480.4 |  486.1 |  477.1 |  459.8 |  373.2 |\n",
       "| 3 | US                  | 5745.8 | 5656.1 | 5677.9 | 5743.1 | 5844.3 | 5879.8 | 5802.5 | 5892.2 | 5710.2 | ⋯ | 5348.4 | 5101.5 | 5268.3 | 5277.6 | 5165.6 | 5060.8 | 5003.2 | 5166.0 | 5029.4 | 4457.2 |\n",
       "| 4 | Total North America | 6646.7 | 6555.6 | 6608.0 | 6683.2 | 6797.1 | 6860.4 | 6788.4 | 6911.4 | 6734.1 | ⋯ | 6376.1 | 6129.4 | 6316.1 | 6320.5 | 6211.0 | 6094.5 | 6055.2 | 6219.4 | 6067.1 | 5348.1 |\n",
       "| 5 | Argentina           |  132.6 |  122.0 |  117.7 |  127.6 |  138.8 |  146.6 |  152.5 |  166.2 |  167.7 | ⋯ |  174.8 |  183.7 |  189.4 |  189.5 |  192.8 |  191.5 |  189.7 |  187.5 |  175.8 |  164.1 |\n",
       "| 6 | Brazil              |  306.4 |  316.1 |  315.3 |  311.4 |  325.8 |  334.8 |  339.1 |  353.6 |  377.3 | ⋯ |  427.2 |  445.7 |  485.8 |  508.0 |  490.7 |  454.1 |  460.6 |  445.5 |  444.9 |  417.5 |\n",
       "\n"
      ],
      "text/plain": [
       "  Country.Name        X2000  X2001  X2002  X2003  X2004  X2005  X2006  X2007 \n",
       "1 Canada               538.0  540.1  553.2  562.0  559.2  560.3  553.1  578.5\n",
       "2 Mexico               363.0  359.4  377.0  378.0  393.6  420.3  432.9  440.7\n",
       "3 US                  5745.8 5656.1 5677.9 5743.1 5844.3 5879.8 5802.5 5892.2\n",
       "4 Total North America 6646.7 6555.6 6608.0 6683.2 6797.1 6860.4 6788.4 6911.4\n",
       "5 Argentina            132.6  122.0  117.7  127.6  138.8  146.6  152.5  166.2\n",
       "6 Brazil               306.4  316.1  315.3  311.4  325.8  334.8  339.1  353.6\n",
       "  X2008  ⋯ X2011  X2012  X2013  X2014  X2015  X2016  X2017  X2018  X2019 \n",
       "1  564.6 ⋯  554.7  551.1  564.6  571.8  570.2  553.3  565.9  576.2  578.0\n",
       "2  459.4 ⋯  473.0  476.7  483.2  471.2  475.2  480.4  486.1  477.1  459.8\n",
       "3 5710.2 ⋯ 5348.4 5101.5 5268.3 5277.6 5165.6 5060.8 5003.2 5166.0 5029.4\n",
       "4 6734.1 ⋯ 6376.1 6129.4 6316.1 6320.5 6211.0 6094.5 6055.2 6219.4 6067.1\n",
       "5  167.7 ⋯  174.8  183.7  189.4  189.5  192.8  191.5  189.7  187.5  175.8\n",
       "6  377.3 ⋯  427.2  445.7  485.8  508.0  490.7  454.1  460.6  445.5  444.9\n",
       "  X2020 \n",
       "1  517.7\n",
       "2  373.2\n",
       "3 4457.2\n",
       "4 5348.1\n",
       "5  164.1\n",
       "6  417.5"
      ]
     },
     "metadata": {},
     "output_type": "display_data"
    }
   ],
   "source": [
    "carbon_df <- carbon_df[-c(57),]                                         # Removing the USSR\n",
    "\n",
    "carbon_df <- subset (carbon_df, select = -c(X1965:X1999,X2020.1:X.3))   # Selecting the years 2000-2020\n",
    "\n",
    "carbon_df <- carbon_df[complete.cases(carbon_df), ]                     # Filtering rows to select only those without missing datatypes\n",
    "\n",
    "n <- c(2:22)\n",
    "carbon_df[ , n] <- apply(carbon_df[ , n], 2,                            # Changing type of data to numeric\n",
    "                 function(x) as.numeric(as.character(x)))\n",
    "                         \n",
    "colnames(carbon_df)[1] <- \"Country.Name\"                                # Matching column names\n",
    "                         \n",
    "carbon_df <- carbon_df[-c(103:144), ]                                   # Removing rows with missing data\n",
    "head(carbon_df)"
   ]
  },
  {
   "cell_type": "markdown",
   "id": "89bea0b1-309b-4835-8828-7e743e977277",
   "metadata": {},
   "source": [
    "# GDP by Country"
   ]
  },
  {
   "cell_type": "markdown",
   "id": "81ab2f12-a7e4-4db1-97f1-53808bfb6c0a",
   "metadata": {},
   "source": [
    "There were fewer processes needed to clean this dataset. We only needed to select the columns (years) needed for our analysis. GDP was reported in current US\\$ as of 2020."
   ]
  },
  {
   "cell_type": "code",
   "execution_count": 5,
   "id": "b8814a33-ca0a-4a1f-8017-3ae3017d647e",
   "metadata": {},
   "outputs": [
    {
     "data": {
      "text/html": [
       "<table class=\"dataframe\">\n",
       "<caption>A data.frame: 6 × 22</caption>\n",
       "<thead>\n",
       "\t<tr><th></th><th scope=col>Country.Name</th><th scope=col>X2000</th><th scope=col>X2001</th><th scope=col>X2002</th><th scope=col>X2003</th><th scope=col>X2004</th><th scope=col>X2005</th><th scope=col>X2006</th><th scope=col>X2007</th><th scope=col>X2008</th><th scope=col>⋯</th><th scope=col>X2011</th><th scope=col>X2012</th><th scope=col>X2013</th><th scope=col>X2014</th><th scope=col>X2015</th><th scope=col>X2016</th><th scope=col>X2017</th><th scope=col>X2018</th><th scope=col>X2019</th><th scope=col>X2020</th></tr>\n",
       "\t<tr><th></th><th scope=col>&lt;chr&gt;</th><th scope=col>&lt;dbl&gt;</th><th scope=col>&lt;dbl&gt;</th><th scope=col>&lt;dbl&gt;</th><th scope=col>&lt;dbl&gt;</th><th scope=col>&lt;dbl&gt;</th><th scope=col>&lt;dbl&gt;</th><th scope=col>&lt;dbl&gt;</th><th scope=col>&lt;dbl&gt;</th><th scope=col>&lt;dbl&gt;</th><th scope=col>⋯</th><th scope=col>&lt;dbl&gt;</th><th scope=col>&lt;dbl&gt;</th><th scope=col>&lt;dbl&gt;</th><th scope=col>&lt;dbl&gt;</th><th scope=col>&lt;dbl&gt;</th><th scope=col>&lt;dbl&gt;</th><th scope=col>&lt;dbl&gt;</th><th scope=col>&lt;dbl&gt;</th><th scope=col>&lt;dbl&gt;</th><th scope=col>&lt;dbl&gt;</th></tr>\n",
       "</thead>\n",
       "<tbody>\n",
       "\t<tr><th scope=row>2</th><td>Africa Eastern and Southern</td><td>268315000000</td><td>242105000000</td><td>247657000000</td><td>326744000000</td><td>405860000000</td><td>4.717430e+11</td><td>5.335330e+11</td><td>6.131640e+11</td><td>6.680370e+11</td><td>⋯</td><td>8.986050e+11</td><td>9.155900e+11</td><td>9.300860e+11</td><td>9.588250e+11</td><td>8.954400e+11</td><td>8.56992e+11</td><td>9.647910e+11</td><td>9.866110e+11</td><td>9.803720e+11</td><td>9.008290e+11</td></tr>\n",
       "\t<tr><th scope=row>4</th><td>Africa Western and Central </td><td>134150000000</td><td>141863000000</td><td>170532000000</td><td>197384000000</td><td>245856000000</td><td>3.021110e+11</td><td>3.843360e+11</td><td>4.518660e+11</td><td>5.530310e+11</td><td>⋯</td><td>6.584280e+11</td><td>7.169350e+11</td><td>8.078190e+11</td><td>8.469430e+11</td><td>7.574920e+11</td><td>6.87485e+11</td><td>6.809890e+11</td><td>7.381310e+11</td><td>7.920790e+11</td><td>7.865850e+11</td></tr>\n",
       "\t<tr><th scope=row>5</th><td>Angola                     </td><td>  9129634978</td><td>  8936063723</td><td> 15285594828</td><td> 17812705294</td><td> 23552052408</td><td>3.697092e+10</td><td>5.238101e+10</td><td>6.526645e+10</td><td>8.853861e+10</td><td>⋯</td><td>1.117900e+11</td><td>1.280530e+11</td><td>1.367100e+11</td><td>1.457120e+11</td><td>1.161940e+11</td><td>1.01124e+11</td><td>1.221240e+11</td><td>1.013530e+11</td><td>8.941719e+10</td><td>6.230691e+10</td></tr>\n",
       "\t<tr><th scope=row>6</th><td>Albania                    </td><td>  3480355189</td><td>  3922099471</td><td>  4348070165</td><td>  5611492283</td><td>  7184681399</td><td>8.052076e+09</td><td>8.896074e+09</td><td>1.067732e+10</td><td>1.288135e+10</td><td>⋯</td><td>1.289077e+10</td><td>1.231983e+10</td><td>1.277622e+10</td><td>1.322814e+10</td><td>1.138685e+10</td><td>1.18612e+10</td><td>1.301969e+10</td><td>1.514702e+10</td><td>1.528661e+10</td><td>1.479962e+10</td></tr>\n",
       "\t<tr><th scope=row>8</th><td>Arab World                 </td><td>737027000000</td><td>713134000000</td><td>713627000000</td><td>791228000000</td><td>940634000000</td><td>1.156060e+12</td><td>1.370260e+12</td><td>1.597880e+12</td><td>2.028260e+12</td><td>⋯</td><td>2.431650e+12</td><td>2.698850e+12</td><td>2.777410e+12</td><td>2.811490e+12</td><td>2.449470e+12</td><td>2.39953e+12</td><td>2.447380e+12</td><td>2.688050e+12</td><td>2.739880e+12</td><td>2.466010e+12</td></tr>\n",
       "\t<tr><th scope=row>10</th><td>Argentina                  </td><td>284204000000</td><td>268697000000</td><td> 97724004252</td><td>127587000000</td><td>164658000000</td><td>1.987370e+11</td><td>2.325570e+11</td><td>2.875310e+11</td><td>3.615580e+11</td><td>⋯</td><td>5.301630e+11</td><td>5.459820e+11</td><td>5.520250e+11</td><td>5.263200e+11</td><td>5.947490e+11</td><td>5.57531e+11</td><td>6.436290e+11</td><td>5.176270e+11</td><td>4.454450e+11</td><td>3.830670e+11</td></tr>\n",
       "</tbody>\n",
       "</table>\n"
      ],
      "text/latex": [
       "A data.frame: 6 × 22\n",
       "\\begin{tabular}{r|lllllllllllllllllllll}\n",
       "  & Country.Name & X2000 & X2001 & X2002 & X2003 & X2004 & X2005 & X2006 & X2007 & X2008 & ⋯ & X2011 & X2012 & X2013 & X2014 & X2015 & X2016 & X2017 & X2018 & X2019 & X2020\\\\\n",
       "  & <chr> & <dbl> & <dbl> & <dbl> & <dbl> & <dbl> & <dbl> & <dbl> & <dbl> & <dbl> & ⋯ & <dbl> & <dbl> & <dbl> & <dbl> & <dbl> & <dbl> & <dbl> & <dbl> & <dbl> & <dbl>\\\\\n",
       "\\hline\n",
       "\t2 & Africa Eastern and Southern & 268315000000 & 242105000000 & 247657000000 & 326744000000 & 405860000000 & 4.717430e+11 & 5.335330e+11 & 6.131640e+11 & 6.680370e+11 & ⋯ & 8.986050e+11 & 9.155900e+11 & 9.300860e+11 & 9.588250e+11 & 8.954400e+11 & 8.56992e+11 & 9.647910e+11 & 9.866110e+11 & 9.803720e+11 & 9.008290e+11\\\\\n",
       "\t4 & Africa Western and Central  & 134150000000 & 141863000000 & 170532000000 & 197384000000 & 245856000000 & 3.021110e+11 & 3.843360e+11 & 4.518660e+11 & 5.530310e+11 & ⋯ & 6.584280e+11 & 7.169350e+11 & 8.078190e+11 & 8.469430e+11 & 7.574920e+11 & 6.87485e+11 & 6.809890e+11 & 7.381310e+11 & 7.920790e+11 & 7.865850e+11\\\\\n",
       "\t5 & Angola                      &   9129634978 &   8936063723 &  15285594828 &  17812705294 &  23552052408 & 3.697092e+10 & 5.238101e+10 & 6.526645e+10 & 8.853861e+10 & ⋯ & 1.117900e+11 & 1.280530e+11 & 1.367100e+11 & 1.457120e+11 & 1.161940e+11 & 1.01124e+11 & 1.221240e+11 & 1.013530e+11 & 8.941719e+10 & 6.230691e+10\\\\\n",
       "\t6 & Albania                     &   3480355189 &   3922099471 &   4348070165 &   5611492283 &   7184681399 & 8.052076e+09 & 8.896074e+09 & 1.067732e+10 & 1.288135e+10 & ⋯ & 1.289077e+10 & 1.231983e+10 & 1.277622e+10 & 1.322814e+10 & 1.138685e+10 & 1.18612e+10 & 1.301969e+10 & 1.514702e+10 & 1.528661e+10 & 1.479962e+10\\\\\n",
       "\t8 & Arab World                  & 737027000000 & 713134000000 & 713627000000 & 791228000000 & 940634000000 & 1.156060e+12 & 1.370260e+12 & 1.597880e+12 & 2.028260e+12 & ⋯ & 2.431650e+12 & 2.698850e+12 & 2.777410e+12 & 2.811490e+12 & 2.449470e+12 & 2.39953e+12 & 2.447380e+12 & 2.688050e+12 & 2.739880e+12 & 2.466010e+12\\\\\n",
       "\t10 & Argentina                   & 284204000000 & 268697000000 &  97724004252 & 127587000000 & 164658000000 & 1.987370e+11 & 2.325570e+11 & 2.875310e+11 & 3.615580e+11 & ⋯ & 5.301630e+11 & 5.459820e+11 & 5.520250e+11 & 5.263200e+11 & 5.947490e+11 & 5.57531e+11 & 6.436290e+11 & 5.176270e+11 & 4.454450e+11 & 3.830670e+11\\\\\n",
       "\\end{tabular}\n"
      ],
      "text/markdown": [
       "\n",
       "A data.frame: 6 × 22\n",
       "\n",
       "| <!--/--> | Country.Name &lt;chr&gt; | X2000 &lt;dbl&gt; | X2001 &lt;dbl&gt; | X2002 &lt;dbl&gt; | X2003 &lt;dbl&gt; | X2004 &lt;dbl&gt; | X2005 &lt;dbl&gt; | X2006 &lt;dbl&gt; | X2007 &lt;dbl&gt; | X2008 &lt;dbl&gt; | ⋯ ⋯ | X2011 &lt;dbl&gt; | X2012 &lt;dbl&gt; | X2013 &lt;dbl&gt; | X2014 &lt;dbl&gt; | X2015 &lt;dbl&gt; | X2016 &lt;dbl&gt; | X2017 &lt;dbl&gt; | X2018 &lt;dbl&gt; | X2019 &lt;dbl&gt; | X2020 &lt;dbl&gt; |\n",
       "|---|---|---|---|---|---|---|---|---|---|---|---|---|---|---|---|---|---|---|---|---|---|\n",
       "| 2 | Africa Eastern and Southern | 268315000000 | 242105000000 | 247657000000 | 326744000000 | 405860000000 | 4.717430e+11 | 5.335330e+11 | 6.131640e+11 | 6.680370e+11 | ⋯ | 8.986050e+11 | 9.155900e+11 | 9.300860e+11 | 9.588250e+11 | 8.954400e+11 | 8.56992e+11 | 9.647910e+11 | 9.866110e+11 | 9.803720e+11 | 9.008290e+11 |\n",
       "| 4 | Africa Western and Central  | 134150000000 | 141863000000 | 170532000000 | 197384000000 | 245856000000 | 3.021110e+11 | 3.843360e+11 | 4.518660e+11 | 5.530310e+11 | ⋯ | 6.584280e+11 | 7.169350e+11 | 8.078190e+11 | 8.469430e+11 | 7.574920e+11 | 6.87485e+11 | 6.809890e+11 | 7.381310e+11 | 7.920790e+11 | 7.865850e+11 |\n",
       "| 5 | Angola                      |   9129634978 |   8936063723 |  15285594828 |  17812705294 |  23552052408 | 3.697092e+10 | 5.238101e+10 | 6.526645e+10 | 8.853861e+10 | ⋯ | 1.117900e+11 | 1.280530e+11 | 1.367100e+11 | 1.457120e+11 | 1.161940e+11 | 1.01124e+11 | 1.221240e+11 | 1.013530e+11 | 8.941719e+10 | 6.230691e+10 |\n",
       "| 6 | Albania                     |   3480355189 |   3922099471 |   4348070165 |   5611492283 |   7184681399 | 8.052076e+09 | 8.896074e+09 | 1.067732e+10 | 1.288135e+10 | ⋯ | 1.289077e+10 | 1.231983e+10 | 1.277622e+10 | 1.322814e+10 | 1.138685e+10 | 1.18612e+10 | 1.301969e+10 | 1.514702e+10 | 1.528661e+10 | 1.479962e+10 |\n",
       "| 8 | Arab World                  | 737027000000 | 713134000000 | 713627000000 | 791228000000 | 940634000000 | 1.156060e+12 | 1.370260e+12 | 1.597880e+12 | 2.028260e+12 | ⋯ | 2.431650e+12 | 2.698850e+12 | 2.777410e+12 | 2.811490e+12 | 2.449470e+12 | 2.39953e+12 | 2.447380e+12 | 2.688050e+12 | 2.739880e+12 | 2.466010e+12 |\n",
       "| 10 | Argentina                   | 284204000000 | 268697000000 |  97724004252 | 127587000000 | 164658000000 | 1.987370e+11 | 2.325570e+11 | 2.875310e+11 | 3.615580e+11 | ⋯ | 5.301630e+11 | 5.459820e+11 | 5.520250e+11 | 5.263200e+11 | 5.947490e+11 | 5.57531e+11 | 6.436290e+11 | 5.176270e+11 | 4.454450e+11 | 3.830670e+11 |\n",
       "\n"
      ],
      "text/plain": [
       "   Country.Name                X2000        X2001        X2002       \n",
       "2  Africa Eastern and Southern 268315000000 242105000000 247657000000\n",
       "4  Africa Western and Central  134150000000 141863000000 170532000000\n",
       "5  Angola                        9129634978   8936063723  15285594828\n",
       "6  Albania                       3480355189   3922099471   4348070165\n",
       "8  Arab World                  737027000000 713134000000 713627000000\n",
       "10 Argentina                   284204000000 268697000000  97724004252\n",
       "   X2003        X2004        X2005        X2006        X2007       \n",
       "2  326744000000 405860000000 4.717430e+11 5.335330e+11 6.131640e+11\n",
       "4  197384000000 245856000000 3.021110e+11 3.843360e+11 4.518660e+11\n",
       "5   17812705294  23552052408 3.697092e+10 5.238101e+10 6.526645e+10\n",
       "6    5611492283   7184681399 8.052076e+09 8.896074e+09 1.067732e+10\n",
       "8  791228000000 940634000000 1.156060e+12 1.370260e+12 1.597880e+12\n",
       "10 127587000000 164658000000 1.987370e+11 2.325570e+11 2.875310e+11\n",
       "   X2008        ⋯ X2011        X2012        X2013        X2014       \n",
       "2  6.680370e+11 ⋯ 8.986050e+11 9.155900e+11 9.300860e+11 9.588250e+11\n",
       "4  5.530310e+11 ⋯ 6.584280e+11 7.169350e+11 8.078190e+11 8.469430e+11\n",
       "5  8.853861e+10 ⋯ 1.117900e+11 1.280530e+11 1.367100e+11 1.457120e+11\n",
       "6  1.288135e+10 ⋯ 1.289077e+10 1.231983e+10 1.277622e+10 1.322814e+10\n",
       "8  2.028260e+12 ⋯ 2.431650e+12 2.698850e+12 2.777410e+12 2.811490e+12\n",
       "10 3.615580e+11 ⋯ 5.301630e+11 5.459820e+11 5.520250e+11 5.263200e+11\n",
       "   X2015        X2016       X2017        X2018        X2019        X2020       \n",
       "2  8.954400e+11 8.56992e+11 9.647910e+11 9.866110e+11 9.803720e+11 9.008290e+11\n",
       "4  7.574920e+11 6.87485e+11 6.809890e+11 7.381310e+11 7.920790e+11 7.865850e+11\n",
       "5  1.161940e+11 1.01124e+11 1.221240e+11 1.013530e+11 8.941719e+10 6.230691e+10\n",
       "6  1.138685e+10 1.18612e+10 1.301969e+10 1.514702e+10 1.528661e+10 1.479962e+10\n",
       "8  2.449470e+12 2.39953e+12 2.447380e+12 2.688050e+12 2.739880e+12 2.466010e+12\n",
       "10 5.947490e+11 5.57531e+11 6.436290e+11 5.176270e+11 4.454450e+11 3.830670e+11"
      ]
     },
     "metadata": {},
     "output_type": "display_data"
    }
   ],
   "source": [
    "gdp1_df <- subset (gdp1_df, select = -c(Country.Code:X1999))  # Removing columns with unnecessary information and years not included in primen_df\n",
    "gdp1_df <- gdp1_df[complete.cases(gdp1_df), ]                 # Filtering rows to select only those without missing datatypes\n",
    "head(gdp1_df)"
   ]
  },
  {
   "cell_type": "markdown",
   "id": "ba25cf32-1e72-4ed7-bfba-d8ba8370fe2f",
   "metadata": {},
   "source": [
    "# Combining Dataframes\n",
    "To combine all of the dataframes above, we first began by using pivot longer to turn everything into long form (i.e. each country and year combination has its own row). We then proceeded to horizontally merge the converted dataframes by pairs with an inner join on \"Country.Name\" and \"year\"."
   ]
  },
  {
   "cell_type": "code",
   "execution_count": 6,
   "id": "82c877fb-4479-419b-b017-183b4c043086",
   "metadata": {},
   "outputs": [],
   "source": [
    "gdp_df <- gdp1_df %>%\n",
    "    pivot_longer(\n",
    "        cols = starts_with(\"X\"),\n",
    "        names_to = \"year\",\n",
    "        values_to = \"GDP\"\n",
    "        )\n",
    "\n",
    "primary_df <- primen_df %>%\n",
    "    pivot_longer(\n",
    "        cols = starts_with(\"X\"),\n",
    "        names_to = \"year\",\n",
    "        values_to = \"PrimaryEnergyConsumption\"\n",
    "        )\n",
    "\n",
    "renewables_df <- renew_df %>%\n",
    "    pivot_longer(\n",
    "        cols = starts_with(\"X\"),\n",
    "        names_to = \"year\",\n",
    "        values_to = \"RenewablesConsumption\"\n",
    "        )\n",
    "\n",
    "emissions_df <- carbon_df %>%\n",
    "    pivot_longer(\n",
    "        cols = starts_with(\"X\"),\n",
    "        names_to = \"year\",\n",
    "        values_to = \"CarbonEmissions\"\n",
    "        )\n",
    "\n",
    "combined1_df <- merge(gdp_df, primary_df, by=c(\"Country.Name\",\"year\"))\n",
    "combined2_df <- merge(renewables_df, emissions_df, by=c(\"Country.Name\",\"year\"))\n",
    "combined_df <- merge(combined1_df, combined2_df, by=c(\"Country.Name\",\"year\"))"
   ]
  },
  {
   "cell_type": "markdown",
   "id": "6671646b-fcc7-4ade-be8f-5ce028328057",
   "metadata": {},
   "source": [
    "# Creating new columns and scaling numbers\n",
    "After combining the dataframes, we then created new columns such that numbers for energy consumption were expressed in gigajoules and emissions were expressed in tonnes. Furthermore, a column for energy intensity was created by dividing primary energy consumption by GDP. In a similar fashion, a column for carbon intensity was created by dividing carbon emissions by primary energy consumption. "
   ]
  },
  {
   "cell_type": "code",
   "execution_count": 7,
   "id": "8d96ad6c-4cfd-4a29-985a-fcee7a733ac6",
   "metadata": {},
   "outputs": [],
   "source": [
    "combined_df[\"PrimaryConsumption\"] <- combined_df[\"PrimaryEnergyConsumption\"]*10^9                                   # Reporting in gigajoules\n",
    "combined_df[\"RenewableConsumption\"] <- combined_df[\"RenewablesConsumption\"]*10^9                                    # Reporting in gigajoules\n",
    "combined_df[\"EnergyIntensity\"] <- combined_df[\"PrimaryConsumption\"]/combined_df[\"GDP\"]                              # Gigajoules per dollar of GDP\n",
    "combined_df[\"CarbonEmissionsinTonnes\"] <- combined_df[\"CarbonEmissions\"]*10^6                                       # Recording in tonnes\n",
    "combined_df[\"CarbonIntensity\"] <- combined_df[\"CarbonEmissionsinTonnes\"]/combined_df[\"PrimaryConsumption\"]          # Tonnes per gigajoule\n",
    "combined_df[\"NonrenewableConsumption\"] <- combined_df[\"PrimaryConsumption\"] - combined_df[\"RenewableConsumption\"]\n",
    "combined_df <- subset(combined_df, select = -c(PrimaryEnergyConsumption, RenewablesConsumption, CarbonEmissions))"
   ]
  },
  {
   "cell_type": "code",
   "execution_count": 8,
   "id": "05d4ef30-044b-4435-96d4-1ef302424349",
   "metadata": {},
   "outputs": [
    {
     "data": {
      "text/html": [
       "<table class=\"dataframe\">\n",
       "<caption>A data.frame: 6 × 9</caption>\n",
       "<thead>\n",
       "\t<tr><th></th><th scope=col>Country.Name</th><th scope=col>year</th><th scope=col>GDP</th><th scope=col>PrimaryConsumption</th><th scope=col>RenewableConsumption</th><th scope=col>EnergyIntensity</th><th scope=col>CarbonEmissionsinTonnes</th><th scope=col>CarbonIntensity</th><th scope=col>NonrenewableConsumption</th></tr>\n",
       "\t<tr><th></th><th scope=col>&lt;chr&gt;</th><th scope=col>&lt;dbl&gt;</th><th scope=col>&lt;dbl&gt;</th><th scope=col>&lt;dbl&gt;</th><th scope=col>&lt;dbl&gt;</th><th scope=col>&lt;dbl&gt;</th><th scope=col>&lt;dbl&gt;</th><th scope=col>&lt;dbl&gt;</th><th scope=col>&lt;dbl&gt;</th></tr>\n",
       "</thead>\n",
       "<tbody>\n",
       "\t<tr><th scope=row>1</th><td>Algeria</td><td>2000</td><td> 54790379459</td><td>1.08e+09</td><td>0</td><td>0.01971149</td><td>76000000</td><td>0.07037037</td><td>1.08e+09</td></tr>\n",
       "\t<tr><th scope=row>2</th><td>Algeria</td><td>2001</td><td> 54744725766</td><td>1.12e+09</td><td>0</td><td>0.02045859</td><td>73400000</td><td>0.06553571</td><td>1.12e+09</td></tr>\n",
       "\t<tr><th scope=row>3</th><td>Algeria</td><td>2002</td><td> 56760318215</td><td>1.16e+09</td><td>0</td><td>0.02043681</td><td>76100000</td><td>0.06560345</td><td>1.16e+09</td></tr>\n",
       "\t<tr><th scope=row>4</th><td>Algeria</td><td>2003</td><td> 67863841333</td><td>1.21e+09</td><td>0</td><td>0.01782982</td><td>78800000</td><td>0.06512397</td><td>1.21e+09</td></tr>\n",
       "\t<tr><th scope=row>5</th><td>Algeria</td><td>2004</td><td> 85332581189</td><td>1.26e+09</td><td>0</td><td>0.01476576</td><td>81000000</td><td>0.06428571</td><td>1.26e+09</td></tr>\n",
       "\t<tr><th scope=row>6</th><td>Algeria</td><td>2005</td><td>103198000000</td><td>1.32e+09</td><td>0</td><td>0.01279095</td><td>82900000</td><td>0.06280303</td><td>1.32e+09</td></tr>\n",
       "</tbody>\n",
       "</table>\n"
      ],
      "text/latex": [
       "A data.frame: 6 × 9\n",
       "\\begin{tabular}{r|lllllllll}\n",
       "  & Country.Name & year & GDP & PrimaryConsumption & RenewableConsumption & EnergyIntensity & CarbonEmissionsinTonnes & CarbonIntensity & NonrenewableConsumption\\\\\n",
       "  & <chr> & <dbl> & <dbl> & <dbl> & <dbl> & <dbl> & <dbl> & <dbl> & <dbl>\\\\\n",
       "\\hline\n",
       "\t1 & Algeria & 2000 &  54790379459 & 1.08e+09 & 0 & 0.01971149 & 76000000 & 0.07037037 & 1.08e+09\\\\\n",
       "\t2 & Algeria & 2001 &  54744725766 & 1.12e+09 & 0 & 0.02045859 & 73400000 & 0.06553571 & 1.12e+09\\\\\n",
       "\t3 & Algeria & 2002 &  56760318215 & 1.16e+09 & 0 & 0.02043681 & 76100000 & 0.06560345 & 1.16e+09\\\\\n",
       "\t4 & Algeria & 2003 &  67863841333 & 1.21e+09 & 0 & 0.01782982 & 78800000 & 0.06512397 & 1.21e+09\\\\\n",
       "\t5 & Algeria & 2004 &  85332581189 & 1.26e+09 & 0 & 0.01476576 & 81000000 & 0.06428571 & 1.26e+09\\\\\n",
       "\t6 & Algeria & 2005 & 103198000000 & 1.32e+09 & 0 & 0.01279095 & 82900000 & 0.06280303 & 1.32e+09\\\\\n",
       "\\end{tabular}\n"
      ],
      "text/markdown": [
       "\n",
       "A data.frame: 6 × 9\n",
       "\n",
       "| <!--/--> | Country.Name &lt;chr&gt; | year &lt;dbl&gt; | GDP &lt;dbl&gt; | PrimaryConsumption &lt;dbl&gt; | RenewableConsumption &lt;dbl&gt; | EnergyIntensity &lt;dbl&gt; | CarbonEmissionsinTonnes &lt;dbl&gt; | CarbonIntensity &lt;dbl&gt; | NonrenewableConsumption &lt;dbl&gt; |\n",
       "|---|---|---|---|---|---|---|---|---|---|\n",
       "| 1 | Algeria | 2000 |  54790379459 | 1.08e+09 | 0 | 0.01971149 | 76000000 | 0.07037037 | 1.08e+09 |\n",
       "| 2 | Algeria | 2001 |  54744725766 | 1.12e+09 | 0 | 0.02045859 | 73400000 | 0.06553571 | 1.12e+09 |\n",
       "| 3 | Algeria | 2002 |  56760318215 | 1.16e+09 | 0 | 0.02043681 | 76100000 | 0.06560345 | 1.16e+09 |\n",
       "| 4 | Algeria | 2003 |  67863841333 | 1.21e+09 | 0 | 0.01782982 | 78800000 | 0.06512397 | 1.21e+09 |\n",
       "| 5 | Algeria | 2004 |  85332581189 | 1.26e+09 | 0 | 0.01476576 | 81000000 | 0.06428571 | 1.26e+09 |\n",
       "| 6 | Algeria | 2005 | 103198000000 | 1.32e+09 | 0 | 0.01279095 | 82900000 | 0.06280303 | 1.32e+09 |\n",
       "\n"
      ],
      "text/plain": [
       "  Country.Name year GDP          PrimaryConsumption RenewableConsumption\n",
       "1 Algeria      2000  54790379459 1.08e+09           0                   \n",
       "2 Algeria      2001  54744725766 1.12e+09           0                   \n",
       "3 Algeria      2002  56760318215 1.16e+09           0                   \n",
       "4 Algeria      2003  67863841333 1.21e+09           0                   \n",
       "5 Algeria      2004  85332581189 1.26e+09           0                   \n",
       "6 Algeria      2005 103198000000 1.32e+09           0                   \n",
       "  EnergyIntensity CarbonEmissionsinTonnes CarbonIntensity\n",
       "1 0.01971149      76000000                0.07037037     \n",
       "2 0.02045859      73400000                0.06553571     \n",
       "3 0.02043681      76100000                0.06560345     \n",
       "4 0.01782982      78800000                0.06512397     \n",
       "5 0.01476576      81000000                0.06428571     \n",
       "6 0.01279095      82900000                0.06280303     \n",
       "  NonrenewableConsumption\n",
       "1 1.08e+09               \n",
       "2 1.12e+09               \n",
       "3 1.16e+09               \n",
       "4 1.21e+09               \n",
       "5 1.26e+09               \n",
       "6 1.32e+09               "
      ]
     },
     "metadata": {},
     "output_type": "display_data"
    }
   ],
   "source": [
    "combined_df$year <- (sub('.', '', combined_df$year))\n",
    "combined_df$year <- as.numeric(as.character(combined_df$year))\n",
    "head(combined_df)\n"
   ]
  },
  {
   "cell_type": "markdown",
   "id": "c8cba102-95e2-4203-99ee-59ad24e9ff41",
   "metadata": {},
   "source": [
    "# Trends in Carbon Intensity\n",
    "The goal of the following analysis was to look at changes in countries' carbon intensities between the years 2000-2020. First getting a snapshot of the data, we look at the range and median of carbon intensities in 2000 and 2020 as well as a visualization of the carbon intensities in a few countries across time. Then we run a simple linear regression on the carbon intensity over the years."
   ]
  },
  {
   "cell_type": "code",
   "execution_count": 9,
   "id": "1afa101a-f405-4ce4-b8d5-bed2fa4a4da8",
   "metadata": {},
   "outputs": [
    {
     "data": {
      "text/html": [
       "0.0589039039039039"
      ],
      "text/latex": [
       "0.0589039039039039"
      ],
      "text/markdown": [
       "0.0589039039039039"
      ],
      "text/plain": [
       "[1] 0.0589039"
      ]
     },
     "metadata": {},
     "output_type": "display_data"
    },
    {
     "data": {
      "text/html": [
       "0.0538240982330861"
      ],
      "text/latex": [
       "0.0538240982330861"
      ],
      "text/markdown": [
       "0.0538240982330861"
      ],
      "text/plain": [
       "[1] 0.0538241"
      ]
     },
     "metadata": {},
     "output_type": "display_data"
    },
    {
     "data": {
      "text/html": [
       "<style>\n",
       ".list-inline {list-style: none; margin:0; padding: 0}\n",
       ".list-inline>li {display: inline-block}\n",
       ".list-inline>li:not(:last-child)::after {content: \"\\00b7\"; padding: 0 .5ex}\n",
       "</style>\n",
       "<ol class=list-inline><li>0.01765</li><li>0.0905263157894737</li></ol>\n"
      ],
      "text/latex": [
       "\\begin{enumerate*}\n",
       "\\item 0.01765\n",
       "\\item 0.0905263157894737\n",
       "\\end{enumerate*}\n"
      ],
      "text/markdown": [
       "1. 0.01765\n",
       "2. 0.0905263157894737\n",
       "\n",
       "\n"
      ],
      "text/plain": [
       "[1] 0.01765000 0.09052632"
      ]
     },
     "metadata": {},
     "output_type": "display_data"
    },
    {
     "data": {
      "text/html": [
       "<style>\n",
       ".list-inline {list-style: none; margin:0; padding: 0}\n",
       ".list-inline>li {display: inline-block}\n",
       ".list-inline>li:not(:last-child)::after {content: \"\\00b7\"; padding: 0 .5ex}\n",
       "</style>\n",
       "<ol class=list-inline><li>0.0123809523809524</li><li>0.0886734693877551</li></ol>\n"
      ],
      "text/latex": [
       "\\begin{enumerate*}\n",
       "\\item 0.0123809523809524\n",
       "\\item 0.0886734693877551\n",
       "\\end{enumerate*}\n"
      ],
      "text/markdown": [
       "1. 0.0123809523809524\n",
       "2. 0.0886734693877551\n",
       "\n",
       "\n"
      ],
      "text/plain": [
       "[1] 0.01238095 0.08867347"
      ]
     },
     "metadata": {},
     "output_type": "display_data"
    },
    {
     "data": {
      "image/png": "[encoded data removed]",
      "text/plain": [
       "plot without title"
      ]
     },
     "metadata": {
      "image/png": {
       "height": 420,
       "width": 420
      }
     },
     "output_type": "display_data"
    }
   ],
   "source": [
    "combined_2000 <- combined_df[combined_df$year == 2000,]\n",
    "combined_2020 <- combined_df[combined_df$year == 2020,]\n",
    "median2000 <- median(combined_2000$CarbonIntensity)\n",
    "median2020 <- median(combined_2020$CarbonIntensity)\n",
    "range2000 <- range(combined_2000$CarbonIntensity)\n",
    "range2020 <- range(combined_2020$CarbonIntensity)\n",
    "median2000\n",
    "median2020\n",
    "range2000\n",
    "range2020\n",
    "\n",
    "vis_df <- subset(combined_df, select= c(Country.Name, year, CarbonIntensity))\n",
    "vis_df <- vis_df[1:126,]\n",
    "ggplot(vis_df, aes(x=year, y=CarbonIntensity, group=Country.Name, color=Country.Name)) + \n",
    "geom_line() + geom_point() + \n",
    "\n",
    "theme(legend.position = \"none\")"
   ]
  },
  {
   "cell_type": "markdown",
   "id": "12e4083f-fb75-42a5-b614-1dd88aa938d8",
   "metadata": {},
   "source": [
    "We see that there indeed exist countries whose carbon intensities significantly increased and those whose decreased. "
   ]
  },
  {
   "cell_type": "code",
   "execution_count": 10,
   "id": "2d92b576-914b-4874-b77a-cb08f06dc815",
   "metadata": {},
   "outputs": [
    {
     "data": {
      "text/html": [
       "<table class=\"dataframe\">\n",
       "<caption>A tibble: 6 × 6</caption>\n",
       "<thead>\n",
       "\t<tr><th scope=col>Country.Name</th><th scope=col>term</th><th scope=col>estimate</th><th scope=col>std.error</th><th scope=col>statistic</th><th scope=col>p.value</th></tr>\n",
       "\t<tr><th scope=col>&lt;chr&gt;</th><th scope=col>&lt;chr&gt;</th><th scope=col>&lt;dbl&gt;</th><th scope=col>&lt;dbl&gt;</th><th scope=col>&lt;dbl&gt;</th><th scope=col>&lt;dbl&gt;</th></tr>\n",
       "</thead>\n",
       "<tbody>\n",
       "\t<tr><td>Azerbaijan     </td><td>year</td><td>-0.0015744167</td><td>1.984043e-04</td><td> -7.935394</td><td>1.890056e-07</td></tr>\n",
       "\t<tr><td>Denmark        </td><td>year</td><td>-0.0011661629</td><td>7.845919e-05</td><td>-14.863305</td><td>6.465017e-12</td></tr>\n",
       "\t<tr><td>Greece         </td><td>year</td><td>-0.0008039268</td><td>5.957032e-05</td><td>-13.495423</td><td>3.479105e-11</td></tr>\n",
       "\t<tr><td>Ireland        </td><td>year</td><td>-0.0007678285</td><td>6.032488e-05</td><td>-12.728222</td><td>9.518648e-11</td></tr>\n",
       "\t<tr><td>Finland        </td><td>year</td><td>-0.0006983262</td><td>8.507063e-05</td><td> -8.208781</td><td>1.140678e-07</td></tr>\n",
       "\t<tr><td>North Macedonia</td><td>year</td><td>-0.0006936836</td><td>1.450980e-04</td><td> -4.780793</td><td>1.299637e-04</td></tr>\n",
       "</tbody>\n",
       "</table>\n"
      ],
      "text/latex": [
       "A tibble: 6 × 6\n",
       "\\begin{tabular}{llllll}\n",
       " Country.Name & term & estimate & std.error & statistic & p.value\\\\\n",
       " <chr> & <chr> & <dbl> & <dbl> & <dbl> & <dbl>\\\\\n",
       "\\hline\n",
       "\t Azerbaijan      & year & -0.0015744167 & 1.984043e-04 &  -7.935394 & 1.890056e-07\\\\\n",
       "\t Denmark         & year & -0.0011661629 & 7.845919e-05 & -14.863305 & 6.465017e-12\\\\\n",
       "\t Greece          & year & -0.0008039268 & 5.957032e-05 & -13.495423 & 3.479105e-11\\\\\n",
       "\t Ireland         & year & -0.0007678285 & 6.032488e-05 & -12.728222 & 9.518648e-11\\\\\n",
       "\t Finland         & year & -0.0006983262 & 8.507063e-05 &  -8.208781 & 1.140678e-07\\\\\n",
       "\t North Macedonia & year & -0.0006936836 & 1.450980e-04 &  -4.780793 & 1.299637e-04\\\\\n",
       "\\end{tabular}\n"
      ],
      "text/markdown": [
       "\n",
       "A tibble: 6 × 6\n",
       "\n",
       "| Country.Name &lt;chr&gt; | term &lt;chr&gt; | estimate &lt;dbl&gt; | std.error &lt;dbl&gt; | statistic &lt;dbl&gt; | p.value &lt;dbl&gt; |\n",
       "|---|---|---|---|---|---|\n",
       "| Azerbaijan      | year | -0.0015744167 | 1.984043e-04 |  -7.935394 | 1.890056e-07 |\n",
       "| Denmark         | year | -0.0011661629 | 7.845919e-05 | -14.863305 | 6.465017e-12 |\n",
       "| Greece          | year | -0.0008039268 | 5.957032e-05 | -13.495423 | 3.479105e-11 |\n",
       "| Ireland         | year | -0.0007678285 | 6.032488e-05 | -12.728222 | 9.518648e-11 |\n",
       "| Finland         | year | -0.0006983262 | 8.507063e-05 |  -8.208781 | 1.140678e-07 |\n",
       "| North Macedonia | year | -0.0006936836 | 1.450980e-04 |  -4.780793 | 1.299637e-04 |\n",
       "\n"
      ],
      "text/plain": [
       "  Country.Name    term estimate      std.error    statistic  p.value     \n",
       "1 Azerbaijan      year -0.0015744167 1.984043e-04  -7.935394 1.890056e-07\n",
       "2 Denmark         year -0.0011661629 7.845919e-05 -14.863305 6.465017e-12\n",
       "3 Greece          year -0.0008039268 5.957032e-05 -13.495423 3.479105e-11\n",
       "4 Ireland         year -0.0007678285 6.032488e-05 -12.728222 9.518648e-11\n",
       "5 Finland         year -0.0006983262 8.507063e-05  -8.208781 1.140678e-07\n",
       "6 North Macedonia year -0.0006936836 1.450980e-04  -4.780793 1.299637e-04"
      ]
     },
     "metadata": {},
     "output_type": "display_data"
    },
    {
     "data": {
      "image/png": "[encoded data removed]",
      "text/plain": [
       "Plot with title “Carbon Intensity Changes”"
      ]
     },
     "metadata": {
      "image/png": {
       "height": 420,
       "width": 420
      }
     },
     "output_type": "display_data"
    },
    {
     "data": {
      "image/png": "[encoded data removed]",
      "text/plain": [
       "Plot with title “P-values”"
      ]
     },
     "metadata": {
      "image/png": {
       "height": 420,
       "width": 420
      }
     },
     "output_type": "display_data"
    }
   ],
   "source": [
    "combined_nest <- combined_df %>%                     # Organizing into groups by country\n",
    "    group_nest(Country.Name)\n",
    "\n",
    "mod_fit <- function(data) {\n",
    "    lm(CarbonIntensity ~ year, data=data)           # Essentially a line of best fit\n",
    "    }\n",
    "\n",
    "combined_model <- combined_nest %>%\n",
    "    mutate(model = map(data, mod_fit))              # Applying regression to each group\n",
    "\n",
    "combined_summary <- combined_model %>%\n",
    "    mutate(\n",
    "        tidy = map(model, broom::tidy),             # Cleaning up outputs\n",
    "        )\n",
    "\n",
    "combined_summary <- combined_summary %>%\n",
    "unnest(tidy) %>%\n",
    "filter(term == \"year\") %>%                          # Selecting rows with \"year\" term only\n",
    "arrange(estimate)\n",
    "\n",
    "combined_summary <- subset(combined_summary, select = -c(data, model))\n",
    "\n",
    "head(combined_summary)\n",
    "\n",
    "barplot(combined_summary$estimate, ylab = \"Coefficients\", xlab = \"Countries\", main = \"Carbon Intensity Changes\")\n",
    "barplot(combined_summary$p.value, ylab = \"P-Values\", xlab = \"Countries\", main = \"P-values\")"
   ]
  },
  {
   "cell_type": "code",
   "execution_count": 11,
   "id": "376405f1-7dfa-44d8-b7eb-b8fdd2266e03",
   "metadata": {},
   "outputs": [
    {
     "data": {
      "text/html": [
       "<style>\n",
       ".list-inline {list-style: none; margin:0; padding: 0}\n",
       ".list-inline>li {display: inline-block}\n",
       ".list-inline>li:not(:last-child)::after {content: \"\\00b7\"; padding: 0 .5ex}\n",
       "</style>\n",
       "<ol class=list-inline><li>53</li><li>6</li></ol>\n"
      ],
      "text/latex": [
       "\\begin{enumerate*}\n",
       "\\item 53\n",
       "\\item 6\n",
       "\\end{enumerate*}\n"
      ],
      "text/markdown": [
       "1. 53\n",
       "2. 6\n",
       "\n",
       "\n"
      ],
      "text/plain": [
       "[1] 53  6"
      ]
     },
     "metadata": {},
     "output_type": "display_data"
    },
    {
     "data": {
      "text/html": [
       "<strong>$Country.Name</strong> = <style>\n",
       ".list-inline {list-style: none; margin:0; padding: 0}\n",
       ".list-inline>li {display: inline-block}\n",
       ".list-inline>li:not(:last-child)::after {content: \"\\00b7\"; padding: 0 .5ex}\n",
       "</style>\n",
       "<ol class=list-inline><li>'Azerbaijan'</li><li>'Denmark'</li><li>'Greece'</li><li>'Ireland'</li><li>'Finland'</li><li>'North Macedonia'</li><li>'Czech Republic'</li><li>'Israel'</li><li>'Portugal'</li><li>'United Kingdom'</li><li>'Poland'</li><li>'China'</li><li>'Iceland'</li><li>'Romania'</li><li>'Spain'</li><li>'Italy'</li><li>'Thailand'</li><li>'Australia'</li><li>'Ecuador'</li><li>'Hungary'</li><li>'Austria'</li><li>'Belgium'</li><li>'Sweden'</li><li>'Germany'</li><li>'Croatia'</li><li>'Turkey'</li><li>'Slovenia'</li><li>'Morocco'</li><li>'France'</li><li>'Netherlands'</li><li>'Latvia'</li><li>'Estonia'</li><li>'Luxembourg'</li><li>'Canada'</li><li>'Ukraine'</li><li>'Russian Federation'</li><li>'New Zealand'</li><li>'Singapore'</li><li>'Cyprus'</li><li>'Bulgaria'</li><li>'Norway'</li><li>'Switzerland'</li><li>'Mexico'</li><li>'Saudi Arabia'</li><li>'Malaysia'</li><li>'Kazakhstan'</li><li>'Brazil'</li><li>'Peru'</li><li>'Qatar'</li><li>'Algeria'</li><li>'South Africa'</li><li>'Uzbekistan'</li><li>'India'</li><li>'Vietnam'</li><li>'Pakistan'</li><li>'Belarus'</li><li>'Argentina'</li><li>'Colombia'</li><li>'Sri Lanka'</li><li>'Indonesia'</li><li>'Philippines'</li><li>'Japan'</li><li>'Iraq'</li><li>'Chile'</li><li>'Bangladesh'</li><li>'Lithuania'</li></ol>\n"
      ],
      "text/latex": [
       "\\textbf{\\$Country.Name} = \\begin{enumerate*}\n",
       "\\item 'Azerbaijan'\n",
       "\\item 'Denmark'\n",
       "\\item 'Greece'\n",
       "\\item 'Ireland'\n",
       "\\item 'Finland'\n",
       "\\item 'North Macedonia'\n",
       "\\item 'Czech Republic'\n",
       "\\item 'Israel'\n",
       "\\item 'Portugal'\n",
       "\\item 'United Kingdom'\n",
       "\\item 'Poland'\n",
       "\\item 'China'\n",
       "\\item 'Iceland'\n",
       "\\item 'Romania'\n",
       "\\item 'Spain'\n",
       "\\item 'Italy'\n",
       "\\item 'Thailand'\n",
       "\\item 'Australia'\n",
       "\\item 'Ecuador'\n",
       "\\item 'Hungary'\n",
       "\\item 'Austria'\n",
       "\\item 'Belgium'\n",
       "\\item 'Sweden'\n",
       "\\item 'Germany'\n",
       "\\item 'Croatia'\n",
       "\\item 'Turkey'\n",
       "\\item 'Slovenia'\n",
       "\\item 'Morocco'\n",
       "\\item 'France'\n",
       "\\item 'Netherlands'\n",
       "\\item 'Latvia'\n",
       "\\item 'Estonia'\n",
       "\\item 'Luxembourg'\n",
       "\\item 'Canada'\n",
       "\\item 'Ukraine'\n",
       "\\item 'Russian Federation'\n",
       "\\item 'New Zealand'\n",
       "\\item 'Singapore'\n",
       "\\item 'Cyprus'\n",
       "\\item 'Bulgaria'\n",
       "\\item 'Norway'\n",
       "\\item 'Switzerland'\n",
       "\\item 'Mexico'\n",
       "\\item 'Saudi Arabia'\n",
       "\\item 'Malaysia'\n",
       "\\item 'Kazakhstan'\n",
       "\\item 'Brazil'\n",
       "\\item 'Peru'\n",
       "\\item 'Qatar'\n",
       "\\item 'Algeria'\n",
       "\\item 'South Africa'\n",
       "\\item 'Uzbekistan'\n",
       "\\item 'India'\n",
       "\\item 'Vietnam'\n",
       "\\item 'Pakistan'\n",
       "\\item 'Belarus'\n",
       "\\item 'Argentina'\n",
       "\\item 'Colombia'\n",
       "\\item 'Sri Lanka'\n",
       "\\item 'Indonesia'\n",
       "\\item 'Philippines'\n",
       "\\item 'Japan'\n",
       "\\item 'Iraq'\n",
       "\\item 'Chile'\n",
       "\\item 'Bangladesh'\n",
       "\\item 'Lithuania'\n",
       "\\end{enumerate*}\n"
      ],
      "text/markdown": [
       "**$Country.Name** = 1. 'Azerbaijan'\n",
       "2. 'Denmark'\n",
       "3. 'Greece'\n",
       "4. 'Ireland'\n",
       "5. 'Finland'\n",
       "6. 'North Macedonia'\n",
       "7. 'Czech Republic'\n",
       "8. 'Israel'\n",
       "9. 'Portugal'\n",
       "10. 'United Kingdom'\n",
       "11. 'Poland'\n",
       "12. 'China'\n",
       "13. 'Iceland'\n",
       "14. 'Romania'\n",
       "15. 'Spain'\n",
       "16. 'Italy'\n",
       "17. 'Thailand'\n",
       "18. 'Australia'\n",
       "19. 'Ecuador'\n",
       "20. 'Hungary'\n",
       "21. 'Austria'\n",
       "22. 'Belgium'\n",
       "23. 'Sweden'\n",
       "24. 'Germany'\n",
       "25. 'Croatia'\n",
       "26. 'Turkey'\n",
       "27. 'Slovenia'\n",
       "28. 'Morocco'\n",
       "29. 'France'\n",
       "30. 'Netherlands'\n",
       "31. 'Latvia'\n",
       "32. 'Estonia'\n",
       "33. 'Luxembourg'\n",
       "34. 'Canada'\n",
       "35. 'Ukraine'\n",
       "36. 'Russian Federation'\n",
       "37. 'New Zealand'\n",
       "38. 'Singapore'\n",
       "39. 'Cyprus'\n",
       "40. 'Bulgaria'\n",
       "41. 'Norway'\n",
       "42. 'Switzerland'\n",
       "43. 'Mexico'\n",
       "44. 'Saudi Arabia'\n",
       "45. 'Malaysia'\n",
       "46. 'Kazakhstan'\n",
       "47. 'Brazil'\n",
       "48. 'Peru'\n",
       "49. 'Qatar'\n",
       "50. 'Algeria'\n",
       "51. 'South Africa'\n",
       "52. 'Uzbekistan'\n",
       "53. 'India'\n",
       "54. 'Vietnam'\n",
       "55. 'Pakistan'\n",
       "56. 'Belarus'\n",
       "57. 'Argentina'\n",
       "58. 'Colombia'\n",
       "59. 'Sri Lanka'\n",
       "60. 'Indonesia'\n",
       "61. 'Philippines'\n",
       "62. 'Japan'\n",
       "63. 'Iraq'\n",
       "64. 'Chile'\n",
       "65. 'Bangladesh'\n",
       "66. 'Lithuania'\n",
       "\n",
       "\n"
      ],
      "text/plain": [
       "$Country.Name\n",
       " [1] \"Azerbaijan\"         \"Denmark\"            \"Greece\"            \n",
       " [4] \"Ireland\"            \"Finland\"            \"North Macedonia\"   \n",
       " [7] \"Czech Republic\"     \"Israel\"             \"Portugal\"          \n",
       "[10] \"United Kingdom\"     \"Poland\"             \"China\"             \n",
       "[13] \"Iceland\"            \"Romania\"            \"Spain\"             \n",
       "[16] \"Italy\"              \"Thailand\"           \"Australia\"         \n",
       "[19] \"Ecuador\"            \"Hungary\"            \"Austria\"           \n",
       "[22] \"Belgium\"            \"Sweden\"             \"Germany\"           \n",
       "[25] \"Croatia\"            \"Turkey\"             \"Slovenia\"          \n",
       "[28] \"Morocco\"            \"France\"             \"Netherlands\"       \n",
       "[31] \"Latvia\"             \"Estonia\"            \"Luxembourg\"        \n",
       "[34] \"Canada\"             \"Ukraine\"            \"Russian Federation\"\n",
       "[37] \"New Zealand\"        \"Singapore\"          \"Cyprus\"            \n",
       "[40] \"Bulgaria\"           \"Norway\"             \"Switzerland\"       \n",
       "[43] \"Mexico\"             \"Saudi Arabia\"       \"Malaysia\"          \n",
       "[46] \"Kazakhstan\"         \"Brazil\"             \"Peru\"              \n",
       "[49] \"Qatar\"              \"Algeria\"            \"South Africa\"      \n",
       "[52] \"Uzbekistan\"         \"India\"              \"Vietnam\"           \n",
       "[55] \"Pakistan\"           \"Belarus\"            \"Argentina\"         \n",
       "[58] \"Colombia\"           \"Sri Lanka\"          \"Indonesia\"         \n",
       "[61] \"Philippines\"        \"Japan\"              \"Iraq\"              \n",
       "[64] \"Chile\"              \"Bangladesh\"         \"Lithuania\"         \n"
      ]
     },
     "metadata": {},
     "output_type": "display_data"
    }
   ],
   "source": [
    "sig_df <- subset(combined_summary, p.value <= 0.05)\n",
    "dim(sig_df)\n",
    "as.list(combined_summary['Country.Name'])"
   ]
  },
  {
   "cell_type": "markdown",
   "id": "696f9c6a-970c-4f2e-a93e-d9d6b46ce480",
   "metadata": {},
   "source": [
    "# Countries of interest\n",
    "Clearly, many of the countries we are looking at have decreased their carbon intensity over the past two decades. We looked at the carbon intensity decrease relative to 2000 levels to orient a scale for reference (percentage, fraction, etc.) for Azerbaijan and Algeria, the countries with the largest and smallest non-negative decrease in carbon intensity. Because there are clearly a larger fraction of countries whose carbon intensities decreased, this seems to suggest that if renewable energy consumption increased in this period for countries, there will likely be an inverse relationship with carbon intensity."
   ]
  },
  {
   "cell_type": "code",
   "execution_count": 12,
   "id": "d0c20add-7e12-4eb8-8367-f510442d4567",
   "metadata": {},
   "outputs": [
    {
     "data": {
      "text/html": [
       "1.76184722676401"
      ],
      "text/latex": [
       "1.76184722676401"
      ],
      "text/markdown": [
       "1.76184722676401"
      ],
      "text/plain": [
       "[1] 1.761847"
      ]
     },
     "metadata": {},
     "output_type": "display_data"
    },
    {
     "data": {
      "text/html": [
       "0.0286115004318147"
      ],
      "text/latex": [
       "0.0286115004318147"
      ],
      "text/markdown": [
       "0.0286115004318147"
      ],
      "text/plain": [
       "[1] 0.0286115"
      ]
     },
     "metadata": {},
     "output_type": "display_data"
    }
   ],
   "source": [
    "Azerbaijan_2000 <- combined_df[combined_df$Country.Name == \"Azerbaijan\" & combined_df$year == 2000, ]\n",
    "Azerbaijan_Carbon <- Azerbaijan_2000$CarbonIntensity\n",
    "Algeria_2000 <- combined_df[combined_df$Country.Name == \"Algeria\" & combined_df$year == 2000, ]\n",
    "Algeria_Carbon <- Algeria_2000$CarbonIntensity\n",
    "Azerbaijan_row <- combined_summary[combined_summary$Country.Name == \"Azerbaijan\",]\n",
    "Azerbaijan_decr <- Azerbaijan_row$estimate\n",
    "Algeria_row <- combined_summary[combined_summary$Country.Name == \"Algeria\",]\n",
    "Algeria_decr <- Algeria_row$estimate\n",
    "Azerb_percent <- -(Azerbaijan_decr/Azerbaijan_Carbon)*100\n",
    "Alger_percent <- -(Algeria_decr/Algeria_Carbon)*100\n",
    "Azerb_percent\n",
    "Alger_percent  # This was definitely doable with a function but I was lazy..."
   ]
  },
  {
   "cell_type": "markdown",
   "id": "e3df3419-5541-4aef-9e12-314c1aa90b2e",
   "metadata": {},
   "source": [
    "We see that our linear model's prediction of the decrease in carbon intensity in Azerbaijan was approximately 1.76% from 2000 to 2001. This is a relatively large decrease meaning that the combination of increase in energy consumption and decrease in carbon emissions that caused this trend is indeed worth examining further. By year 20, this accumulates to an approximately 35% decrease in carbon intensity from year 1. "
   ]
  },
  {
   "cell_type": "markdown",
   "id": "aef3e579-398b-4093-95f6-5d07b8728be5",
   "metadata": {},
   "source": [
    "# Final Analysis\n",
    "We have now prepared for the final analysis. We will be looking at the relationship between renewable energy use and carbon intensity. To do this, we'll be regressing carbon intensity on both renewable consumption and nonrenewable consumption. This is to ensure that any effect of renewable consumption on carbon intensity is not caused by shifts in nonrenewable consumption instead. We will compare results from a fixed effect and random effect model and use the Hausman test to make our final selection of "
   ]
  },
  {
   "cell_type": "code",
   "execution_count": 13,
   "id": "f4fb2f60-7b16-4a80-a388-ac9ec25979bf",
   "metadata": {},
   "outputs": [
    {
     "name": "stderr",
     "output_type": "stream",
     "text": [
      "also installing the dependencies ‘miscTools’, ‘rbibutils’, ‘bdsmatrix’, ‘sandwich’, ‘maxLik’, ‘Rdpack’, ‘Formula’\n",
      "\n",
      "\n",
      "Updating HTML index of packages in '.Library'\n",
      "\n",
      "Making 'packages.html' ...\n",
      " done\n",
      "\n",
      "\n",
      "Attaching package: ‘plm’\n",
      "\n",
      "\n",
      "The following objects are masked from ‘package:dplyr’:\n",
      "\n",
      "    between, lag, lead\n",
      "\n",
      "\n"
     ]
    }
   ],
   "source": [
    "install.packages('plm')\n",
    "library('plm')\n",
    "\n"
   ]
  },
  {
   "cell_type": "code",
   "execution_count": 14,
   "id": "54083fcb-18a9-4136-b8a8-252d42cd7a95",
   "metadata": {},
   "outputs": [
    {
     "data": {
      "text/html": [
       "<table class=\"dataframe\">\n",
       "<caption>A pdata.frame: 6 × 9</caption>\n",
       "<thead>\n",
       "\t<tr><th></th><th scope=col>Country.Name</th><th scope=col>year</th><th scope=col>GDP</th><th scope=col>PrimaryConsumption</th><th scope=col>RenewableConsumption</th><th scope=col>EnergyIntensity</th><th scope=col>CarbonEmissionsinTonnes</th><th scope=col>CarbonIntensity</th><th scope=col>NonrenewableConsumption</th></tr>\n",
       "\t<tr><th></th><th scope=col>&lt;fct&gt;</th><th scope=col>&lt;fct&gt;</th><th scope=col>&lt;dbl&gt;</th><th scope=col>&lt;dbl&gt;</th><th scope=col>&lt;dbl&gt;</th><th scope=col>&lt;dbl&gt;</th><th scope=col>&lt;dbl&gt;</th><th scope=col>&lt;dbl&gt;</th><th scope=col>&lt;dbl&gt;</th></tr>\n",
       "</thead>\n",
       "<tbody>\n",
       "\t<tr><th scope=row>Algeria-2000</th><td>Algeria</td><td>2000</td><td> 54790379459</td><td>1.08e+09</td><td>0</td><td>0.01971149</td><td>76000000</td><td>0.07037037</td><td>1.08e+09</td></tr>\n",
       "\t<tr><th scope=row>Algeria-2001</th><td>Algeria</td><td>2001</td><td> 54744725766</td><td>1.12e+09</td><td>0</td><td>0.02045859</td><td>73400000</td><td>0.06553571</td><td>1.12e+09</td></tr>\n",
       "\t<tr><th scope=row>Algeria-2002</th><td>Algeria</td><td>2002</td><td> 56760318215</td><td>1.16e+09</td><td>0</td><td>0.02043681</td><td>76100000</td><td>0.06560345</td><td>1.16e+09</td></tr>\n",
       "\t<tr><th scope=row>Algeria-2003</th><td>Algeria</td><td>2003</td><td> 67863841333</td><td>1.21e+09</td><td>0</td><td>0.01782982</td><td>78800000</td><td>0.06512397</td><td>1.21e+09</td></tr>\n",
       "\t<tr><th scope=row>Algeria-2004</th><td>Algeria</td><td>2004</td><td> 85332581189</td><td>1.26e+09</td><td>0</td><td>0.01476576</td><td>81000000</td><td>0.06428571</td><td>1.26e+09</td></tr>\n",
       "\t<tr><th scope=row>Algeria-2005</th><td>Algeria</td><td>2005</td><td>103198000000</td><td>1.32e+09</td><td>0</td><td>0.01279095</td><td>82900000</td><td>0.06280303</td><td>1.32e+09</td></tr>\n",
       "</tbody>\n",
       "</table>\n"
      ],
      "text/latex": [
       "A pdata.frame: 6 × 9\n",
       "\\begin{tabular}{r|lllllllll}\n",
       "  & Country.Name & year & GDP & PrimaryConsumption & RenewableConsumption & EnergyIntensity & CarbonEmissionsinTonnes & CarbonIntensity & NonrenewableConsumption\\\\\n",
       "  & <fct> & <fct> & <dbl> & <dbl> & <dbl> & <dbl> & <dbl> & <dbl> & <dbl>\\\\\n",
       "\\hline\n",
       "\tAlgeria-2000 & Algeria & 2000 &  54790379459 & 1.08e+09 & 0 & 0.01971149 & 76000000 & 0.07037037 & 1.08e+09\\\\\n",
       "\tAlgeria-2001 & Algeria & 2001 &  54744725766 & 1.12e+09 & 0 & 0.02045859 & 73400000 & 0.06553571 & 1.12e+09\\\\\n",
       "\tAlgeria-2002 & Algeria & 2002 &  56760318215 & 1.16e+09 & 0 & 0.02043681 & 76100000 & 0.06560345 & 1.16e+09\\\\\n",
       "\tAlgeria-2003 & Algeria & 2003 &  67863841333 & 1.21e+09 & 0 & 0.01782982 & 78800000 & 0.06512397 & 1.21e+09\\\\\n",
       "\tAlgeria-2004 & Algeria & 2004 &  85332581189 & 1.26e+09 & 0 & 0.01476576 & 81000000 & 0.06428571 & 1.26e+09\\\\\n",
       "\tAlgeria-2005 & Algeria & 2005 & 103198000000 & 1.32e+09 & 0 & 0.01279095 & 82900000 & 0.06280303 & 1.32e+09\\\\\n",
       "\\end{tabular}\n"
      ],
      "text/markdown": [
       "\n",
       "A pdata.frame: 6 × 9\n",
       "\n",
       "| <!--/--> | Country.Name &lt;fct&gt; | year &lt;fct&gt; | GDP &lt;dbl&gt; | PrimaryConsumption &lt;dbl&gt; | RenewableConsumption &lt;dbl&gt; | EnergyIntensity &lt;dbl&gt; | CarbonEmissionsinTonnes &lt;dbl&gt; | CarbonIntensity &lt;dbl&gt; | NonrenewableConsumption &lt;dbl&gt; |\n",
       "|---|---|---|---|---|---|---|---|---|---|\n",
       "| Algeria-2000 | Algeria | 2000 |  54790379459 | 1.08e+09 | 0 | 0.01971149 | 76000000 | 0.07037037 | 1.08e+09 |\n",
       "| Algeria-2001 | Algeria | 2001 |  54744725766 | 1.12e+09 | 0 | 0.02045859 | 73400000 | 0.06553571 | 1.12e+09 |\n",
       "| Algeria-2002 | Algeria | 2002 |  56760318215 | 1.16e+09 | 0 | 0.02043681 | 76100000 | 0.06560345 | 1.16e+09 |\n",
       "| Algeria-2003 | Algeria | 2003 |  67863841333 | 1.21e+09 | 0 | 0.01782982 | 78800000 | 0.06512397 | 1.21e+09 |\n",
       "| Algeria-2004 | Algeria | 2004 |  85332581189 | 1.26e+09 | 0 | 0.01476576 | 81000000 | 0.06428571 | 1.26e+09 |\n",
       "| Algeria-2005 | Algeria | 2005 | 103198000000 | 1.32e+09 | 0 | 0.01279095 | 82900000 | 0.06280303 | 1.32e+09 |\n",
       "\n"
      ],
      "text/plain": [
       "             Country.Name year GDP          PrimaryConsumption\n",
       "Algeria-2000 Algeria      2000  54790379459 1.08e+09          \n",
       "Algeria-2001 Algeria      2001  54744725766 1.12e+09          \n",
       "Algeria-2002 Algeria      2002  56760318215 1.16e+09          \n",
       "Algeria-2003 Algeria      2003  67863841333 1.21e+09          \n",
       "Algeria-2004 Algeria      2004  85332581189 1.26e+09          \n",
       "Algeria-2005 Algeria      2005 103198000000 1.32e+09          \n",
       "             RenewableConsumption EnergyIntensity CarbonEmissionsinTonnes\n",
       "Algeria-2000 0                    0.01971149      76000000               \n",
       "Algeria-2001 0                    0.02045859      73400000               \n",
       "Algeria-2002 0                    0.02043681      76100000               \n",
       "Algeria-2003 0                    0.01782982      78800000               \n",
       "Algeria-2004 0                    0.01476576      81000000               \n",
       "Algeria-2005 0                    0.01279095      82900000               \n",
       "             CarbonIntensity NonrenewableConsumption\n",
       "Algeria-2000 0.07037037      1.08e+09               \n",
       "Algeria-2001 0.06553571      1.12e+09               \n",
       "Algeria-2002 0.06560345      1.16e+09               \n",
       "Algeria-2003 0.06512397      1.21e+09               \n",
       "Algeria-2004 0.06428571      1.26e+09               \n",
       "Algeria-2005 0.06280303      1.32e+09               "
      ]
     },
     "metadata": {},
     "output_type": "display_data"
    }
   ],
   "source": [
    "panel_data <- pdata.frame(combined_df, index=c(\"Country.Name\",\"year\"))\n",
    "head(panel_data,)"
   ]
  },
  {
   "cell_type": "code",
   "execution_count": 15,
   "id": "6d03a5c5-dcba-4af0-8f5b-6223a558e455",
   "metadata": {
    "tags": []
   },
   "outputs": [
    {
     "data": {
      "text/plain": [
       "Oneway (individual) effect Random Effect Model \n",
       "   (Swamy-Arora's transformation)\n",
       "\n",
       "Call:\n",
       "plm(formula = CarbonIntensity ~ RenewableConsumption + NonrenewableConsumption + \n",
       "    GDP, data = panel_data, model = \"random\", index = c(\"Country.Name\", \n",
       "    \"year\"))\n",
       "\n",
       "Balanced Panel: n = 66, T = 21, N = 1386\n",
       "\n",
       "Effects:\n",
       "                    var   std.dev share\n",
       "idiosyncratic 1.146e-05 3.385e-03 0.054\n",
       "individual    2.013e-04 1.419e-02 0.946\n",
       "theta: 0.948\n",
       "\n",
       "Residuals:\n",
       "       Min.     1st Qu.      Median     3rd Qu.        Max. \n",
       "-1.4528e-02 -1.8798e-03  2.6705e-06  2.0054e-03  2.5820e-02 \n",
       "\n",
       "Coefficients:\n",
       "                           Estimate  Std. Error z-value  Pr(>|z|)    \n",
       "(Intercept)              5.7503e-02  1.7531e-03 32.8018 < 2.2e-16 ***\n",
       "RenewableConsumption    -2.9309e-12  5.6116e-13 -5.2230 1.761e-07 ***\n",
       "NonrenewableConsumption  1.6892e-13  5.1813e-14  3.2601  0.001114 ** \n",
       "GDP                     -5.5018e-16  4.6327e-16 -1.1876  0.234996    \n",
       "---\n",
       "Signif. codes:  0 ‘***’ 0.001 ‘**’ 0.01 ‘*’ 0.05 ‘.’ 0.1 ‘ ’ 1\n",
       "\n",
       "Total Sum of Squares:    0.01687\n",
       "Residual Sum of Squares: 0.015819\n",
       "R-Squared:      0.062261\n",
       "Adj. R-Squared: 0.060225\n",
       "Chisq: 91.7573 on 3 DF, p-value: < 2.22e-16"
      ]
     },
     "metadata": {},
     "output_type": "display_data"
    }
   ],
   "source": [
    "re_renew_plm <- plm(CarbonIntensity ~ RenewableConsumption + NonrenewableConsumption + GDP, \n",
    "                    data = panel_data, \n",
    "                    index = c(\"Country.Name\", \"year\"), \n",
    "                    model = \"random\")\n",
    "summary(re_renew_plm)"
   ]
  },
  {
   "cell_type": "code",
   "execution_count": 16,
   "id": "e9d1fbcc-3b30-43b4-b92d-3f978c1b4289",
   "metadata": {},
   "outputs": [
    {
     "data": {
      "text/plain": [
       "Oneway (individual) effect Within Model\n",
       "\n",
       "Call:\n",
       "plm(formula = CarbonIntensity ~ RenewableConsumption + NonrenewableConsumption + \n",
       "    GDP, data = panel_data, model = \"within\", index = c(\"Country.Name\", \n",
       "    \"year\"))\n",
       "\n",
       "Balanced Panel: n = 66, T = 21, N = 1386\n",
       "\n",
       "Residuals:\n",
       "       Min.     1st Qu.      Median     3rd Qu.        Max. \n",
       "-1.4691e-02 -1.7727e-03  8.5975e-05  1.7470e-03  2.5495e-02 \n",
       "\n",
       "Coefficients:\n",
       "                           Estimate  Std. Error t-value  Pr(>|t|)    \n",
       "RenewableConsumption    -2.9702e-12  5.6431e-13 -5.2634 1.649e-07 ***\n",
       "NonrenewableConsumption  1.5540e-13  5.3251e-14  2.9182  0.003581 ** \n",
       "GDP                     -4.5750e-16  4.7094e-16 -0.9715  0.331495    \n",
       "---\n",
       "Signif. codes:  0 ‘***’ 0.001 ‘**’ 0.01 ‘*’ 0.05 ‘.’ 0.1 ‘ ’ 1\n",
       "\n",
       "Total Sum of Squares:    0.016116\n",
       "Residual Sum of Squares: 0.015089\n",
       "R-Squared:      0.063734\n",
       "Adj. R-Squared: 0.015392\n",
       "F-statistic: 29.8839 on 3 and 1317 DF, p-value: < 2.22e-16"
      ]
     },
     "metadata": {},
     "output_type": "display_data"
    }
   ],
   "source": [
    "fe_renew_plm <- plm(CarbonIntensity ~ RenewableConsumption + NonrenewableConsumption + GDP, \n",
    "                    data = panel_data, \n",
    "                    index = c(\"Country.Name\", \"year\"), \n",
    "                    model = \"within\")\n",
    "summary(fe_renew_plm)"
   ]
  },
  {
   "cell_type": "markdown",
   "id": "9b10ed9e-c073-45b0-9f94-849f67a36220",
   "metadata": {},
   "source": [
    "# Choosing a test\n",
    "We then run the Hausman test to check whether the individual error terms are correlated with the regressors. The null hypothesis stating that there is no correlation would lead us to choose the random effects model while the alternative hypothesis that there is a corrrelation would lead us to choose the fixed effects model. "
   ]
  },
  {
   "cell_type": "code",
   "execution_count": 17,
   "id": "0214c9fb-38e2-4789-8d0c-31a52aa913a0",
   "metadata": {},
   "outputs": [
    {
     "data": {
      "text/plain": [
       "\n",
       "\tHausman Test\n",
       "\n",
       "data:  CarbonIntensity ~ RenewableConsumption + NonrenewableConsumption +  ...\n",
       "chisq = 1.5061, df = 3, p-value = 0.6809\n",
       "alternative hypothesis: one model is inconsistent\n"
      ]
     },
     "metadata": {},
     "output_type": "display_data"
    }
   ],
   "source": [
    "phtest(fe_renew_plm, re_renew_plm)"
   ]
  },
  {
   "cell_type": "markdown",
   "id": "a4f92da5-f102-4261-9739-db033e784392",
   "metadata": {},
   "source": [
    "The null hypothesis cannot be rejected seen by the high p-value , so we choose  the random effects model over the fixed effects model."
   ]
  },
  {
   "cell_type": "markdown",
   "id": "3e01eb62-42b2-4996-a49d-74c7db38aa2c",
   "metadata": {
    "tags": []
   },
   "source": [
    "# Population and Per Capita GDP\n",
    "The last of our analyses looks at the relationship between carbon intensity and GDP per capita. To do this we calculate gdp per capita by dividing GDP by population for each country each year."
   ]
  },
  {
   "cell_type": "code",
   "execution_count": 18,
   "id": "c27515a6-467e-45d5-ada4-1627345a028c",
   "metadata": {},
   "outputs": [
    {
     "name": "stderr",
     "output_type": "stream",
     "text": [
      "\n",
      "\u001b[36m──\u001b[39m \u001b[1m\u001b[1mColumn specification\u001b[1m\u001b[22m \u001b[36m────────────────────────────────────────────────────────\u001b[39m\n",
      "cols(\n",
      "  .default = col_double(),\n",
      "  `Country Name` = \u001b[31mcol_character()\u001b[39m,\n",
      "  `Country Code` = \u001b[31mcol_character()\u001b[39m,\n",
      "  `Indicator Name` = \u001b[31mcol_character()\u001b[39m,\n",
      "  `Indicator Code` = \u001b[31mcol_character()\u001b[39m\n",
      ")\n",
      "\u001b[36mℹ\u001b[39m Use \u001b[30m\u001b[47m\u001b[30m\u001b[47m`spec()`\u001b[47m\u001b[30m\u001b[49m\u001b[39m for the full column specifications.\n",
      "\n",
      "\n"
     ]
    },
    {
     "data": {
      "text/html": [
       "<table class=\"dataframe\">\n",
       "<caption>A tibble: 6 × 65</caption>\n",
       "<thead>\n",
       "\t<tr><th scope=col>Country Name</th><th scope=col>Country Code</th><th scope=col>Indicator Name</th><th scope=col>Indicator Code</th><th scope=col>1960</th><th scope=col>1961</th><th scope=col>1962</th><th scope=col>1963</th><th scope=col>1964</th><th scope=col>1965</th><th scope=col>⋯</th><th scope=col>2011</th><th scope=col>2012</th><th scope=col>2013</th><th scope=col>2014</th><th scope=col>2015</th><th scope=col>2016</th><th scope=col>2017</th><th scope=col>2018</th><th scope=col>2019</th><th scope=col>2020</th></tr>\n",
       "\t<tr><th scope=col>&lt;chr&gt;</th><th scope=col>&lt;chr&gt;</th><th scope=col>&lt;chr&gt;</th><th scope=col>&lt;chr&gt;</th><th scope=col>&lt;dbl&gt;</th><th scope=col>&lt;dbl&gt;</th><th scope=col>&lt;dbl&gt;</th><th scope=col>&lt;dbl&gt;</th><th scope=col>&lt;dbl&gt;</th><th scope=col>&lt;dbl&gt;</th><th scope=col>⋯</th><th scope=col>&lt;dbl&gt;</th><th scope=col>&lt;dbl&gt;</th><th scope=col>&lt;dbl&gt;</th><th scope=col>&lt;dbl&gt;</th><th scope=col>&lt;dbl&gt;</th><th scope=col>&lt;dbl&gt;</th><th scope=col>&lt;dbl&gt;</th><th scope=col>&lt;dbl&gt;</th><th scope=col>&lt;dbl&gt;</th><th scope=col>&lt;dbl&gt;</th></tr>\n",
       "</thead>\n",
       "<tbody>\n",
       "\t<tr><td>Aruba                      </td><td>ABW</td><td>Population, total</td><td>SP.POP.TOTL</td><td>    54208</td><td>    55434</td><td>    56234</td><td>    56699</td><td>    57029</td><td>    57357</td><td>⋯</td><td>   102050</td><td>   102565</td><td>   103165</td><td>   103776</td><td>   104339</td><td>   104865</td><td>   105361</td><td>   105846</td><td>   106310</td><td>   106766</td></tr>\n",
       "\t<tr><td>Africa Eastern and Southern</td><td>AFE</td><td>Population, total</td><td>SP.POP.TOTL</td><td>130836765</td><td>134159786</td><td>137614644</td><td>141202036</td><td>144920186</td><td>148769974</td><td>⋯</td><td>532760424</td><td>547482863</td><td>562601578</td><td>578075373</td><td>593871847</td><td>609978946</td><td>626392880</td><td>643090131</td><td>660046272</td><td>677243299</td></tr>\n",
       "\t<tr><td>Afghanistan                </td><td>AFG</td><td>Population, total</td><td>SP.POP.TOTL</td><td>  8996967</td><td>  9169406</td><td>  9351442</td><td>  9543200</td><td>  9744772</td><td>  9956318</td><td>⋯</td><td> 30117411</td><td> 31161378</td><td> 32269592</td><td> 33370804</td><td> 34413603</td><td> 35383028</td><td> 36296111</td><td> 37171922</td><td> 38041757</td><td> 38928341</td></tr>\n",
       "\t<tr><td>Africa Western and Central </td><td>AFW</td><td>Population, total</td><td>SP.POP.TOTL</td><td> 96396419</td><td> 98407221</td><td>100506960</td><td>102691339</td><td>104953470</td><td>107289875</td><td>⋯</td><td>360285439</td><td>370243017</td><td>380437896</td><td>390882979</td><td>401586651</td><td>412551299</td><td>423769930</td><td>435229381</td><td>446911598</td><td>458803476</td></tr>\n",
       "\t<tr><td>Angola                     </td><td>AGO</td><td>Population, total</td><td>SP.POP.TOTL</td><td>  5454938</td><td>  5531451</td><td>  5608499</td><td>  5679409</td><td>  5734995</td><td>  5770573</td><td>⋯</td><td> 24220660</td><td> 25107925</td><td> 26015786</td><td> 26941773</td><td> 27884380</td><td> 28842482</td><td> 29816769</td><td> 30809787</td><td> 31825299</td><td> 32866268</td></tr>\n",
       "\t<tr><td>Albania                    </td><td>ALB</td><td>Population, total</td><td>SP.POP.TOTL</td><td>  1608800</td><td>  1659800</td><td>  1711319</td><td>  1762621</td><td>  1814135</td><td>  1864791</td><td>⋯</td><td>  2905195</td><td>  2900401</td><td>  2895092</td><td>  2889104</td><td>  2880703</td><td>  2876101</td><td>  2873457</td><td>  2866376</td><td>  2854191</td><td>  2837743</td></tr>\n",
       "</tbody>\n",
       "</table>\n"
      ],
      "text/latex": [
       "A tibble: 6 × 65\n",
       "\\begin{tabular}{lllllllllllllllllllll}\n",
       " Country Name & Country Code & Indicator Name & Indicator Code & 1960 & 1961 & 1962 & 1963 & 1964 & 1965 & ⋯ & 2011 & 2012 & 2013 & 2014 & 2015 & 2016 & 2017 & 2018 & 2019 & 2020\\\\\n",
       " <chr> & <chr> & <chr> & <chr> & <dbl> & <dbl> & <dbl> & <dbl> & <dbl> & <dbl> & ⋯ & <dbl> & <dbl> & <dbl> & <dbl> & <dbl> & <dbl> & <dbl> & <dbl> & <dbl> & <dbl>\\\\\n",
       "\\hline\n",
       "\t Aruba                       & ABW & Population, total & SP.POP.TOTL &     54208 &     55434 &     56234 &     56699 &     57029 &     57357 & ⋯ &    102050 &    102565 &    103165 &    103776 &    104339 &    104865 &    105361 &    105846 &    106310 &    106766\\\\\n",
       "\t Africa Eastern and Southern & AFE & Population, total & SP.POP.TOTL & 130836765 & 134159786 & 137614644 & 141202036 & 144920186 & 148769974 & ⋯ & 532760424 & 547482863 & 562601578 & 578075373 & 593871847 & 609978946 & 626392880 & 643090131 & 660046272 & 677243299\\\\\n",
       "\t Afghanistan                 & AFG & Population, total & SP.POP.TOTL &   8996967 &   9169406 &   9351442 &   9543200 &   9744772 &   9956318 & ⋯ &  30117411 &  31161378 &  32269592 &  33370804 &  34413603 &  35383028 &  36296111 &  37171922 &  38041757 &  38928341\\\\\n",
       "\t Africa Western and Central  & AFW & Population, total & SP.POP.TOTL &  96396419 &  98407221 & 100506960 & 102691339 & 104953470 & 107289875 & ⋯ & 360285439 & 370243017 & 380437896 & 390882979 & 401586651 & 412551299 & 423769930 & 435229381 & 446911598 & 458803476\\\\\n",
       "\t Angola                      & AGO & Population, total & SP.POP.TOTL &   5454938 &   5531451 &   5608499 &   5679409 &   5734995 &   5770573 & ⋯ &  24220660 &  25107925 &  26015786 &  26941773 &  27884380 &  28842482 &  29816769 &  30809787 &  31825299 &  32866268\\\\\n",
       "\t Albania                     & ALB & Population, total & SP.POP.TOTL &   1608800 &   1659800 &   1711319 &   1762621 &   1814135 &   1864791 & ⋯ &   2905195 &   2900401 &   2895092 &   2889104 &   2880703 &   2876101 &   2873457 &   2866376 &   2854191 &   2837743\\\\\n",
       "\\end{tabular}\n"
      ],
      "text/markdown": [
       "\n",
       "A tibble: 6 × 65\n",
       "\n",
       "| Country Name &lt;chr&gt; | Country Code &lt;chr&gt; | Indicator Name &lt;chr&gt; | Indicator Code &lt;chr&gt; | 1960 &lt;dbl&gt; | 1961 &lt;dbl&gt; | 1962 &lt;dbl&gt; | 1963 &lt;dbl&gt; | 1964 &lt;dbl&gt; | 1965 &lt;dbl&gt; | ⋯ ⋯ | 2011 &lt;dbl&gt; | 2012 &lt;dbl&gt; | 2013 &lt;dbl&gt; | 2014 &lt;dbl&gt; | 2015 &lt;dbl&gt; | 2016 &lt;dbl&gt; | 2017 &lt;dbl&gt; | 2018 &lt;dbl&gt; | 2019 &lt;dbl&gt; | 2020 &lt;dbl&gt; |\n",
       "|---|---|---|---|---|---|---|---|---|---|---|---|---|---|---|---|---|---|---|---|---|\n",
       "| Aruba                       | ABW | Population, total | SP.POP.TOTL |     54208 |     55434 |     56234 |     56699 |     57029 |     57357 | ⋯ |    102050 |    102565 |    103165 |    103776 |    104339 |    104865 |    105361 |    105846 |    106310 |    106766 |\n",
       "| Africa Eastern and Southern | AFE | Population, total | SP.POP.TOTL | 130836765 | 134159786 | 137614644 | 141202036 | 144920186 | 148769974 | ⋯ | 532760424 | 547482863 | 562601578 | 578075373 | 593871847 | 609978946 | 626392880 | 643090131 | 660046272 | 677243299 |\n",
       "| Afghanistan                 | AFG | Population, total | SP.POP.TOTL |   8996967 |   9169406 |   9351442 |   9543200 |   9744772 |   9956318 | ⋯ |  30117411 |  31161378 |  32269592 |  33370804 |  34413603 |  35383028 |  36296111 |  37171922 |  38041757 |  38928341 |\n",
       "| Africa Western and Central  | AFW | Population, total | SP.POP.TOTL |  96396419 |  98407221 | 100506960 | 102691339 | 104953470 | 107289875 | ⋯ | 360285439 | 370243017 | 380437896 | 390882979 | 401586651 | 412551299 | 423769930 | 435229381 | 446911598 | 458803476 |\n",
       "| Angola                      | AGO | Population, total | SP.POP.TOTL |   5454938 |   5531451 |   5608499 |   5679409 |   5734995 |   5770573 | ⋯ |  24220660 |  25107925 |  26015786 |  26941773 |  27884380 |  28842482 |  29816769 |  30809787 |  31825299 |  32866268 |\n",
       "| Albania                     | ALB | Population, total | SP.POP.TOTL |   1608800 |   1659800 |   1711319 |   1762621 |   1814135 |   1864791 | ⋯ |   2905195 |   2900401 |   2895092 |   2889104 |   2880703 |   2876101 |   2873457 |   2866376 |   2854191 |   2837743 |\n",
       "\n"
      ],
      "text/plain": [
       "  Country Name                Country Code Indicator Name    Indicator Code\n",
       "1 Aruba                       ABW          Population, total SP.POP.TOTL   \n",
       "2 Africa Eastern and Southern AFE          Population, total SP.POP.TOTL   \n",
       "3 Afghanistan                 AFG          Population, total SP.POP.TOTL   \n",
       "4 Africa Western and Central  AFW          Population, total SP.POP.TOTL   \n",
       "5 Angola                      AGO          Population, total SP.POP.TOTL   \n",
       "6 Albania                     ALB          Population, total SP.POP.TOTL   \n",
       "  1960      1961      1962      1963      1964      1965      ⋯ 2011     \n",
       "1     54208     55434     56234     56699     57029     57357 ⋯    102050\n",
       "2 130836765 134159786 137614644 141202036 144920186 148769974 ⋯ 532760424\n",
       "3   8996967   9169406   9351442   9543200   9744772   9956318 ⋯  30117411\n",
       "4  96396419  98407221 100506960 102691339 104953470 107289875 ⋯ 360285439\n",
       "5   5454938   5531451   5608499   5679409   5734995   5770573 ⋯  24220660\n",
       "6   1608800   1659800   1711319   1762621   1814135   1864791 ⋯   2905195\n",
       "  2012      2013      2014      2015      2016      2017      2018     \n",
       "1    102565    103165    103776    104339    104865    105361    105846\n",
       "2 547482863 562601578 578075373 593871847 609978946 626392880 643090131\n",
       "3  31161378  32269592  33370804  34413603  35383028  36296111  37171922\n",
       "4 370243017 380437896 390882979 401586651 412551299 423769930 435229381\n",
       "5  25107925  26015786  26941773  27884380  28842482  29816769  30809787\n",
       "6   2900401   2895092   2889104   2880703   2876101   2873457   2866376\n",
       "  2019      2020     \n",
       "1    106310    106766\n",
       "2 660046272 677243299\n",
       "3  38041757  38928341\n",
       "4 446911598 458803476\n",
       "5  31825299  32866268\n",
       "6   2854191   2837743"
      ]
     },
     "metadata": {},
     "output_type": "display_data"
    }
   ],
   "source": [
    "pop1_df <- read_csv(\"API_SP.POP.TOTL_DS2_en_csv_v2_3358390.csv\")\n",
    "head(pop1_df)"
   ]
  },
  {
   "cell_type": "code",
   "execution_count": 19,
   "id": "def846c6-0601-4904-9e81-21b92de78c44",
   "metadata": {},
   "outputs": [
    {
     "data": {
      "text/html": [
       "<table class=\"dataframe\">\n",
       "<caption>A tibble: 6 × 22</caption>\n",
       "<thead>\n",
       "\t<tr><th scope=col>Country Name</th><th scope=col>2000</th><th scope=col>2001</th><th scope=col>2002</th><th scope=col>2003</th><th scope=col>2004</th><th scope=col>2005</th><th scope=col>2006</th><th scope=col>2007</th><th scope=col>2008</th><th scope=col>⋯</th><th scope=col>2011</th><th scope=col>2012</th><th scope=col>2013</th><th scope=col>2014</th><th scope=col>2015</th><th scope=col>2016</th><th scope=col>2017</th><th scope=col>2018</th><th scope=col>2019</th><th scope=col>2020</th></tr>\n",
       "\t<tr><th scope=col>&lt;chr&gt;</th><th scope=col>&lt;dbl&gt;</th><th scope=col>&lt;dbl&gt;</th><th scope=col>&lt;dbl&gt;</th><th scope=col>&lt;dbl&gt;</th><th scope=col>&lt;dbl&gt;</th><th scope=col>&lt;dbl&gt;</th><th scope=col>&lt;dbl&gt;</th><th scope=col>&lt;dbl&gt;</th><th scope=col>&lt;dbl&gt;</th><th scope=col>⋯</th><th scope=col>&lt;dbl&gt;</th><th scope=col>&lt;dbl&gt;</th><th scope=col>&lt;dbl&gt;</th><th scope=col>&lt;dbl&gt;</th><th scope=col>&lt;dbl&gt;</th><th scope=col>&lt;dbl&gt;</th><th scope=col>&lt;dbl&gt;</th><th scope=col>&lt;dbl&gt;</th><th scope=col>&lt;dbl&gt;</th><th scope=col>&lt;dbl&gt;</th></tr>\n",
       "</thead>\n",
       "<tbody>\n",
       "\t<tr><td>Aruba                      </td><td>    90866</td><td>    92892</td><td>    94992</td><td>    97016</td><td>    98744</td><td>   100028</td><td>   100830</td><td>   101226</td><td>   101362</td><td>⋯</td><td>   102050</td><td>   102565</td><td>   103165</td><td>   103776</td><td>   104339</td><td>   104865</td><td>   105361</td><td>   105846</td><td>   106310</td><td>   106766</td></tr>\n",
       "\t<tr><td>Africa Eastern and Southern</td><td>398113044</td><td>408522129</td><td>419223717</td><td>430246635</td><td>441630149</td><td>453404076</td><td>465581372</td><td>478166911</td><td>491173160</td><td>⋯</td><td>532760424</td><td>547482863</td><td>562601578</td><td>578075373</td><td>593871847</td><td>609978946</td><td>626392880</td><td>643090131</td><td>660046272</td><td>677243299</td></tr>\n",
       "\t<tr><td>Afghanistan                </td><td> 20779957</td><td> 21606992</td><td> 22600774</td><td> 23680871</td><td> 24726689</td><td> 25654274</td><td> 26433058</td><td> 27100542</td><td> 27722281</td><td>⋯</td><td> 30117411</td><td> 31161378</td><td> 32269592</td><td> 33370804</td><td> 34413603</td><td> 35383028</td><td> 36296111</td><td> 37171922</td><td> 38041757</td><td> 38928341</td></tr>\n",
       "\t<tr><td>Africa Western and Central </td><td>267214544</td><td>274433894</td><td>281842480</td><td>289469530</td><td>297353098</td><td>305520588</td><td>313985474</td><td>322741656</td><td>331772330</td><td>⋯</td><td>360285439</td><td>370243017</td><td>380437896</td><td>390882979</td><td>401586651</td><td>412551299</td><td>423769930</td><td>435229381</td><td>446911598</td><td>458803476</td></tr>\n",
       "\t<tr><td>Angola                     </td><td> 16395477</td><td> 16945753</td><td> 17519418</td><td> 18121477</td><td> 18758138</td><td> 19433604</td><td> 20149905</td><td> 20905360</td><td> 21695636</td><td>⋯</td><td> 24220660</td><td> 25107925</td><td> 26015786</td><td> 26941773</td><td> 27884380</td><td> 28842482</td><td> 29816769</td><td> 30809787</td><td> 31825299</td><td> 32866268</td></tr>\n",
       "\t<tr><td>Albania                    </td><td>  3089027</td><td>  3060173</td><td>  3051010</td><td>  3039616</td><td>  3026939</td><td>  3011487</td><td>  2992547</td><td>  2970017</td><td>  2947314</td><td>⋯</td><td>  2905195</td><td>  2900401</td><td>  2895092</td><td>  2889104</td><td>  2880703</td><td>  2876101</td><td>  2873457</td><td>  2866376</td><td>  2854191</td><td>  2837743</td></tr>\n",
       "</tbody>\n",
       "</table>\n"
      ],
      "text/latex": [
       "A tibble: 6 × 22\n",
       "\\begin{tabular}{lllllllllllllllllllll}\n",
       " Country Name & 2000 & 2001 & 2002 & 2003 & 2004 & 2005 & 2006 & 2007 & 2008 & ⋯ & 2011 & 2012 & 2013 & 2014 & 2015 & 2016 & 2017 & 2018 & 2019 & 2020\\\\\n",
       " <chr> & <dbl> & <dbl> & <dbl> & <dbl> & <dbl> & <dbl> & <dbl> & <dbl> & <dbl> & ⋯ & <dbl> & <dbl> & <dbl> & <dbl> & <dbl> & <dbl> & <dbl> & <dbl> & <dbl> & <dbl>\\\\\n",
       "\\hline\n",
       "\t Aruba                       &     90866 &     92892 &     94992 &     97016 &     98744 &    100028 &    100830 &    101226 &    101362 & ⋯ &    102050 &    102565 &    103165 &    103776 &    104339 &    104865 &    105361 &    105846 &    106310 &    106766\\\\\n",
       "\t Africa Eastern and Southern & 398113044 & 408522129 & 419223717 & 430246635 & 441630149 & 453404076 & 465581372 & 478166911 & 491173160 & ⋯ & 532760424 & 547482863 & 562601578 & 578075373 & 593871847 & 609978946 & 626392880 & 643090131 & 660046272 & 677243299\\\\\n",
       "\t Afghanistan                 &  20779957 &  21606992 &  22600774 &  23680871 &  24726689 &  25654274 &  26433058 &  27100542 &  27722281 & ⋯ &  30117411 &  31161378 &  32269592 &  33370804 &  34413603 &  35383028 &  36296111 &  37171922 &  38041757 &  38928341\\\\\n",
       "\t Africa Western and Central  & 267214544 & 274433894 & 281842480 & 289469530 & 297353098 & 305520588 & 313985474 & 322741656 & 331772330 & ⋯ & 360285439 & 370243017 & 380437896 & 390882979 & 401586651 & 412551299 & 423769930 & 435229381 & 446911598 & 458803476\\\\\n",
       "\t Angola                      &  16395477 &  16945753 &  17519418 &  18121477 &  18758138 &  19433604 &  20149905 &  20905360 &  21695636 & ⋯ &  24220660 &  25107925 &  26015786 &  26941773 &  27884380 &  28842482 &  29816769 &  30809787 &  31825299 &  32866268\\\\\n",
       "\t Albania                     &   3089027 &   3060173 &   3051010 &   3039616 &   3026939 &   3011487 &   2992547 &   2970017 &   2947314 & ⋯ &   2905195 &   2900401 &   2895092 &   2889104 &   2880703 &   2876101 &   2873457 &   2866376 &   2854191 &   2837743\\\\\n",
       "\\end{tabular}\n"
      ],
      "text/markdown": [
       "\n",
       "A tibble: 6 × 22\n",
       "\n",
       "| Country Name &lt;chr&gt; | 2000 &lt;dbl&gt; | 2001 &lt;dbl&gt; | 2002 &lt;dbl&gt; | 2003 &lt;dbl&gt; | 2004 &lt;dbl&gt; | 2005 &lt;dbl&gt; | 2006 &lt;dbl&gt; | 2007 &lt;dbl&gt; | 2008 &lt;dbl&gt; | ⋯ ⋯ | 2011 &lt;dbl&gt; | 2012 &lt;dbl&gt; | 2013 &lt;dbl&gt; | 2014 &lt;dbl&gt; | 2015 &lt;dbl&gt; | 2016 &lt;dbl&gt; | 2017 &lt;dbl&gt; | 2018 &lt;dbl&gt; | 2019 &lt;dbl&gt; | 2020 &lt;dbl&gt; |\n",
       "|---|---|---|---|---|---|---|---|---|---|---|---|---|---|---|---|---|---|---|---|---|\n",
       "| Aruba                       |     90866 |     92892 |     94992 |     97016 |     98744 |    100028 |    100830 |    101226 |    101362 | ⋯ |    102050 |    102565 |    103165 |    103776 |    104339 |    104865 |    105361 |    105846 |    106310 |    106766 |\n",
       "| Africa Eastern and Southern | 398113044 | 408522129 | 419223717 | 430246635 | 441630149 | 453404076 | 465581372 | 478166911 | 491173160 | ⋯ | 532760424 | 547482863 | 562601578 | 578075373 | 593871847 | 609978946 | 626392880 | 643090131 | 660046272 | 677243299 |\n",
       "| Afghanistan                 |  20779957 |  21606992 |  22600774 |  23680871 |  24726689 |  25654274 |  26433058 |  27100542 |  27722281 | ⋯ |  30117411 |  31161378 |  32269592 |  33370804 |  34413603 |  35383028 |  36296111 |  37171922 |  38041757 |  38928341 |\n",
       "| Africa Western and Central  | 267214544 | 274433894 | 281842480 | 289469530 | 297353098 | 305520588 | 313985474 | 322741656 | 331772330 | ⋯ | 360285439 | 370243017 | 380437896 | 390882979 | 401586651 | 412551299 | 423769930 | 435229381 | 446911598 | 458803476 |\n",
       "| Angola                      |  16395477 |  16945753 |  17519418 |  18121477 |  18758138 |  19433604 |  20149905 |  20905360 |  21695636 | ⋯ |  24220660 |  25107925 |  26015786 |  26941773 |  27884380 |  28842482 |  29816769 |  30809787 |  31825299 |  32866268 |\n",
       "| Albania                     |   3089027 |   3060173 |   3051010 |   3039616 |   3026939 |   3011487 |   2992547 |   2970017 |   2947314 | ⋯ |   2905195 |   2900401 |   2895092 |   2889104 |   2880703 |   2876101 |   2873457 |   2866376 |   2854191 |   2837743 |\n",
       "\n"
      ],
      "text/plain": [
       "  Country Name                2000      2001      2002      2003      2004     \n",
       "1 Aruba                           90866     92892     94992     97016     98744\n",
       "2 Africa Eastern and Southern 398113044 408522129 419223717 430246635 441630149\n",
       "3 Afghanistan                  20779957  21606992  22600774  23680871  24726689\n",
       "4 Africa Western and Central  267214544 274433894 281842480 289469530 297353098\n",
       "5 Angola                       16395477  16945753  17519418  18121477  18758138\n",
       "6 Albania                       3089027   3060173   3051010   3039616   3026939\n",
       "  2005      2006      2007      2008      ⋯ 2011      2012      2013     \n",
       "1    100028    100830    101226    101362 ⋯    102050    102565    103165\n",
       "2 453404076 465581372 478166911 491173160 ⋯ 532760424 547482863 562601578\n",
       "3  25654274  26433058  27100542  27722281 ⋯  30117411  31161378  32269592\n",
       "4 305520588 313985474 322741656 331772330 ⋯ 360285439 370243017 380437896\n",
       "5  19433604  20149905  20905360  21695636 ⋯  24220660  25107925  26015786\n",
       "6   3011487   2992547   2970017   2947314 ⋯   2905195   2900401   2895092\n",
       "  2014      2015      2016      2017      2018      2019      2020     \n",
       "1    103776    104339    104865    105361    105846    106310    106766\n",
       "2 578075373 593871847 609978946 626392880 643090131 660046272 677243299\n",
       "3  33370804  34413603  35383028  36296111  37171922  38041757  38928341\n",
       "4 390882979 401586651 412551299 423769930 435229381 446911598 458803476\n",
       "5  26941773  27884380  28842482  29816769  30809787  31825299  32866268\n",
       "6   2889104   2880703   2876101   2873457   2866376   2854191   2837743"
      ]
     },
     "metadata": {},
     "output_type": "display_data"
    }
   ],
   "source": [
    "pop1_df <- subset (pop1_df, select = -c(2:44))  # Removing columns with unnecessary information and years not included in primen_df\n",
    "pop1_df <- pop1_df[complete.cases(pop1_df), ]                 # Filtering rows to select only those without missing datatypes\n",
    "head(pop1_df)\n"
   ]
  },
  {
   "cell_type": "code",
   "execution_count": 20,
   "id": "17ee0014-828b-4b7d-b08b-24ffab1f8d97",
   "metadata": {},
   "outputs": [
    {
     "data": {
      "text/html": [
       "<table class=\"dataframe\">\n",
       "<caption>A tibble: 6 × 3</caption>\n",
       "<thead>\n",
       "\t<tr><th scope=col>Country Name</th><th scope=col>year</th><th scope=col>Population</th></tr>\n",
       "\t<tr><th scope=col>&lt;chr&gt;</th><th scope=col>&lt;dbl&gt;</th><th scope=col>&lt;dbl&gt;</th></tr>\n",
       "</thead>\n",
       "<tbody>\n",
       "\t<tr><td>Aruba</td><td>2000</td><td> 90866</td></tr>\n",
       "\t<tr><td>Aruba</td><td>2001</td><td> 92892</td></tr>\n",
       "\t<tr><td>Aruba</td><td>2002</td><td> 94992</td></tr>\n",
       "\t<tr><td>Aruba</td><td>2003</td><td> 97016</td></tr>\n",
       "\t<tr><td>Aruba</td><td>2004</td><td> 98744</td></tr>\n",
       "\t<tr><td>Aruba</td><td>2005</td><td>100028</td></tr>\n",
       "</tbody>\n",
       "</table>\n"
      ],
      "text/latex": [
       "A tibble: 6 × 3\n",
       "\\begin{tabular}{lll}\n",
       " Country Name & year & Population\\\\\n",
       " <chr> & <dbl> & <dbl>\\\\\n",
       "\\hline\n",
       "\t Aruba & 2000 &  90866\\\\\n",
       "\t Aruba & 2001 &  92892\\\\\n",
       "\t Aruba & 2002 &  94992\\\\\n",
       "\t Aruba & 2003 &  97016\\\\\n",
       "\t Aruba & 2004 &  98744\\\\\n",
       "\t Aruba & 2005 & 100028\\\\\n",
       "\\end{tabular}\n"
      ],
      "text/markdown": [
       "\n",
       "A tibble: 6 × 3\n",
       "\n",
       "| Country Name &lt;chr&gt; | year &lt;dbl&gt; | Population &lt;dbl&gt; |\n",
       "|---|---|---|\n",
       "| Aruba | 2000 |  90866 |\n",
       "| Aruba | 2001 |  92892 |\n",
       "| Aruba | 2002 |  94992 |\n",
       "| Aruba | 2003 |  97016 |\n",
       "| Aruba | 2004 |  98744 |\n",
       "| Aruba | 2005 | 100028 |\n",
       "\n"
      ],
      "text/plain": [
       "  Country Name year Population\n",
       "1 Aruba        2000  90866    \n",
       "2 Aruba        2001  92892    \n",
       "3 Aruba        2002  94992    \n",
       "4 Aruba        2003  97016    \n",
       "5 Aruba        2004  98744    \n",
       "6 Aruba        2005 100028    "
      ]
     },
     "metadata": {},
     "output_type": "display_data"
    }
   ],
   "source": [
    "pop_df <- pop1_df %>%\n",
    "    pivot_longer(\n",
    "        cols = starts_with(\"2\"),\n",
    "        names_to = \"year\",\n",
    "        values_to = \"Population\"\n",
    "        )\n",
    "\n",
    "pop_df$year <- as.numeric(as.character(pop_df$year))\n",
    "head(pop_df)"
   ]
  },
  {
   "cell_type": "code",
   "execution_count": 21,
   "id": "92f67df8-0157-4ed6-9cdb-1e1aedb59720",
   "metadata": {},
   "outputs": [
    {
     "data": {
      "text/html": [
       "<table class=\"dataframe\">\n",
       "<caption>A data.frame: 6 × 10</caption>\n",
       "<thead>\n",
       "\t<tr><th></th><th scope=col>Country.Name</th><th scope=col>year</th><th scope=col>GDP</th><th scope=col>PrimaryConsumption</th><th scope=col>RenewableConsumption</th><th scope=col>EnergyIntensity</th><th scope=col>CarbonEmissionsinTonnes</th><th scope=col>CarbonIntensity</th><th scope=col>NonrenewableConsumption</th><th scope=col>gdpcapita</th></tr>\n",
       "\t<tr><th></th><th scope=col>&lt;chr&gt;</th><th scope=col>&lt;dbl&gt;</th><th scope=col>&lt;dbl&gt;</th><th scope=col>&lt;dbl&gt;</th><th scope=col>&lt;dbl&gt;</th><th scope=col>&lt;dbl&gt;</th><th scope=col>&lt;dbl&gt;</th><th scope=col>&lt;dbl&gt;</th><th scope=col>&lt;dbl&gt;</th><th scope=col>&lt;dbl&gt;</th></tr>\n",
       "</thead>\n",
       "<tbody>\n",
       "\t<tr><th scope=row>1</th><td>Algeria</td><td>2000</td><td> 54790379459</td><td>1.08e+09</td><td>0</td><td>0.01971149</td><td>76000000</td><td>0.07037037</td><td>1.08e+09</td><td>1765.027</td></tr>\n",
       "\t<tr><th scope=row>2</th><td>Algeria</td><td>2001</td><td> 54744725766</td><td>1.12e+09</td><td>0</td><td>0.02045859</td><td>73400000</td><td>0.06553571</td><td>1.12e+09</td><td>1740.607</td></tr>\n",
       "\t<tr><th scope=row>3</th><td>Algeria</td><td>2002</td><td> 56760318215</td><td>1.16e+09</td><td>0</td><td>0.02043681</td><td>76100000</td><td>0.06560345</td><td>1.16e+09</td><td>1781.828</td></tr>\n",
       "\t<tr><th scope=row>4</th><td>Algeria</td><td>2003</td><td> 67863841333</td><td>1.21e+09</td><td>0</td><td>0.01782982</td><td>78800000</td><td>0.06512397</td><td>1.21e+09</td><td>2103.382</td></tr>\n",
       "\t<tr><th scope=row>5</th><td>Algeria</td><td>2004</td><td> 85332581189</td><td>1.26e+09</td><td>0</td><td>0.01476576</td><td>81000000</td><td>0.06428571</td><td>1.26e+09</td><td>2610.185</td></tr>\n",
       "\t<tr><th scope=row>6</th><td>Algeria</td><td>2005</td><td>103198000000</td><td>1.32e+09</td><td>0</td><td>0.01279095</td><td>82900000</td><td>0.06280303</td><td>1.32e+09</td><td>3113.088</td></tr>\n",
       "</tbody>\n",
       "</table>\n"
      ],
      "text/latex": [
       "A data.frame: 6 × 10\n",
       "\\begin{tabular}{r|llllllllll}\n",
       "  & Country.Name & year & GDP & PrimaryConsumption & RenewableConsumption & EnergyIntensity & CarbonEmissionsinTonnes & CarbonIntensity & NonrenewableConsumption & gdpcapita\\\\\n",
       "  & <chr> & <dbl> & <dbl> & <dbl> & <dbl> & <dbl> & <dbl> & <dbl> & <dbl> & <dbl>\\\\\n",
       "\\hline\n",
       "\t1 & Algeria & 2000 &  54790379459 & 1.08e+09 & 0 & 0.01971149 & 76000000 & 0.07037037 & 1.08e+09 & 1765.027\\\\\n",
       "\t2 & Algeria & 2001 &  54744725766 & 1.12e+09 & 0 & 0.02045859 & 73400000 & 0.06553571 & 1.12e+09 & 1740.607\\\\\n",
       "\t3 & Algeria & 2002 &  56760318215 & 1.16e+09 & 0 & 0.02043681 & 76100000 & 0.06560345 & 1.16e+09 & 1781.828\\\\\n",
       "\t4 & Algeria & 2003 &  67863841333 & 1.21e+09 & 0 & 0.01782982 & 78800000 & 0.06512397 & 1.21e+09 & 2103.382\\\\\n",
       "\t5 & Algeria & 2004 &  85332581189 & 1.26e+09 & 0 & 0.01476576 & 81000000 & 0.06428571 & 1.26e+09 & 2610.185\\\\\n",
       "\t6 & Algeria & 2005 & 103198000000 & 1.32e+09 & 0 & 0.01279095 & 82900000 & 0.06280303 & 1.32e+09 & 3113.088\\\\\n",
       "\\end{tabular}\n"
      ],
      "text/markdown": [
       "\n",
       "A data.frame: 6 × 10\n",
       "\n",
       "| <!--/--> | Country.Name &lt;chr&gt; | year &lt;dbl&gt; | GDP &lt;dbl&gt; | PrimaryConsumption &lt;dbl&gt; | RenewableConsumption &lt;dbl&gt; | EnergyIntensity &lt;dbl&gt; | CarbonEmissionsinTonnes &lt;dbl&gt; | CarbonIntensity &lt;dbl&gt; | NonrenewableConsumption &lt;dbl&gt; | gdpcapita &lt;dbl&gt; |\n",
       "|---|---|---|---|---|---|---|---|---|---|---|\n",
       "| 1 | Algeria | 2000 |  54790379459 | 1.08e+09 | 0 | 0.01971149 | 76000000 | 0.07037037 | 1.08e+09 | 1765.027 |\n",
       "| 2 | Algeria | 2001 |  54744725766 | 1.12e+09 | 0 | 0.02045859 | 73400000 | 0.06553571 | 1.12e+09 | 1740.607 |\n",
       "| 3 | Algeria | 2002 |  56760318215 | 1.16e+09 | 0 | 0.02043681 | 76100000 | 0.06560345 | 1.16e+09 | 1781.828 |\n",
       "| 4 | Algeria | 2003 |  67863841333 | 1.21e+09 | 0 | 0.01782982 | 78800000 | 0.06512397 | 1.21e+09 | 2103.382 |\n",
       "| 5 | Algeria | 2004 |  85332581189 | 1.26e+09 | 0 | 0.01476576 | 81000000 | 0.06428571 | 1.26e+09 | 2610.185 |\n",
       "| 6 | Algeria | 2005 | 103198000000 | 1.32e+09 | 0 | 0.01279095 | 82900000 | 0.06280303 | 1.32e+09 | 3113.088 |\n",
       "\n"
      ],
      "text/plain": [
       "  Country.Name year GDP          PrimaryConsumption RenewableConsumption\n",
       "1 Algeria      2000  54790379459 1.08e+09           0                   \n",
       "2 Algeria      2001  54744725766 1.12e+09           0                   \n",
       "3 Algeria      2002  56760318215 1.16e+09           0                   \n",
       "4 Algeria      2003  67863841333 1.21e+09           0                   \n",
       "5 Algeria      2004  85332581189 1.26e+09           0                   \n",
       "6 Algeria      2005 103198000000 1.32e+09           0                   \n",
       "  EnergyIntensity CarbonEmissionsinTonnes CarbonIntensity\n",
       "1 0.01971149      76000000                0.07037037     \n",
       "2 0.02045859      73400000                0.06553571     \n",
       "3 0.02043681      76100000                0.06560345     \n",
       "4 0.01782982      78800000                0.06512397     \n",
       "5 0.01476576      81000000                0.06428571     \n",
       "6 0.01279095      82900000                0.06280303     \n",
       "  NonrenewableConsumption gdpcapita\n",
       "1 1.08e+09                1765.027 \n",
       "2 1.12e+09                1740.607 \n",
       "3 1.16e+09                1781.828 \n",
       "4 1.21e+09                2103.382 \n",
       "5 1.26e+09                2610.185 \n",
       "6 1.32e+09                3113.088 "
      ]
     },
     "metadata": {},
     "output_type": "display_data"
    }
   ],
   "source": [
    "colnames(pop_df) <- c('Country.Name','year','Population')\n",
    "final_df <- merge(combined_df, pop_df, by=c(\"Country.Name\",\"year\"))\n",
    "final_df['gdpcapita'] <- final_df['GDP']/final_df['Population']\n",
    "final_df <- subset(final_df, select = -c(Population))\n",
    "\n",
    "head(final_df)\n",
    "#pop_df$year <- (sub('.', '', pop_df$year))"
   ]
  },
  {
   "cell_type": "code",
   "execution_count": 22,
   "id": "3bcd9874-8982-48da-a894-a0e0c3f9591f",
   "metadata": {},
   "outputs": [
    {
     "data": {
      "text/plain": [
       "Oneway (individual) effect Random Effect Model \n",
       "   (Swamy-Arora's transformation)\n",
       "\n",
       "Call:\n",
       "plm(formula = gdpcapita ~ CarbonIntensity, data = final_df, model = \"random\", \n",
       "    index = c(\"Country.Name\", \"year\"))\n",
       "\n",
       "Balanced Panel: n = 66, T = 21, N = 1386\n",
       "\n",
       "Effects:\n",
       "                    var   std.dev share\n",
       "idiosyncratic  57535924      7585 0.129\n",
       "individual    388990376     19723 0.871\n",
       "theta: 0.9164\n",
       "\n",
       "Residuals:\n",
       "     Min.   1st Qu.    Median   3rd Qu.      Max. \n",
       "-39057.07  -3003.22   -315.97   2840.47  31239.21 \n",
       "\n",
       "Coefficients:\n",
       "                 Estimate Std. Error z-value  Pr(>|z|)    \n",
       "(Intercept)       53999.4     4061.8 13.2945 < 2.2e-16 ***\n",
       "CarbonIntensity -559563.9    56415.4 -9.9186 < 2.2e-16 ***\n",
       "---\n",
       "Signif. codes:  0 ‘***’ 0.001 ‘**’ 0.01 ‘*’ 0.05 ‘.’ 0.1 ‘ ’ 1\n",
       "\n",
       "Total Sum of Squares:    8.5237e+10\n",
       "Residual Sum of Squares: 7.9581e+10\n",
       "R-Squared:      0.066366\n",
       "Adj. R-Squared: 0.065691\n",
       "Chisq: 98.3793 on 1 DF, p-value: < 2.22e-16"
      ]
     },
     "metadata": {},
     "output_type": "display_data"
    }
   ],
   "source": [
    "re_gdp_plm <- plm(gdpcapita ~ CarbonIntensity, \n",
    "                    data = final_df, \n",
    "                    index = c(\"Country.Name\", \"year\"), \n",
    "                    model = \"random\")\n",
    "summary(re_gdp_plm)"
   ]
  },
  {
   "cell_type": "code",
   "execution_count": 23,
   "id": "e2510bb4-c609-4096-8eb4-95d57ec565dd",
   "metadata": {},
   "outputs": [
    {
     "data": {
      "text/plain": [
       "Oneway (individual) effect Within Model\n",
       "\n",
       "Call:\n",
       "plm(formula = gdpcapita ~ CarbonIntensity, data = final_df, model = \"within\", \n",
       "    index = c(\"Country.Name\", \"year\"))\n",
       "\n",
       "Balanced Panel: n = 66, T = 21, N = 1386\n",
       "\n",
       "Residuals:\n",
       "     Min.   1st Qu.    Median   3rd Qu.      Max. \n",
       "-45650.74  -2231.59    386.47   2964.22  28584.62 \n",
       "\n",
       "Coefficients:\n",
       "                Estimate Std. Error t-value  Pr(>|t|)    \n",
       "CarbonIntensity  -552079      59751 -9.2397 < 2.2e-16 ***\n",
       "---\n",
       "Signif. codes:  0 ‘***’ 0.001 ‘**’ 0.01 ‘*’ 0.05 ‘.’ 0.1 ‘ ’ 1\n",
       "\n",
       "Total Sum of Squares:    8.0802e+10\n",
       "Residual Sum of Squares: 7.589e+10\n",
       "R-Squared:      0.06079\n",
       "Adj. R-Squared: 0.013794\n",
       "F-statistic: 85.3713 on 1 and 1319 DF, p-value: < 2.22e-16"
      ]
     },
     "metadata": {},
     "output_type": "display_data"
    }
   ],
   "source": [
    "fe_gdp_plm <- plm(gdpcapita ~ CarbonIntensity, \n",
    "                    data = final_df, \n",
    "                    index = c(\"Country.Name\", \"year\"), \n",
    "                    model = \"within\")\n",
    "summary(fe_gdp_plm)"
   ]
  },
  {
   "cell_type": "code",
   "execution_count": 24,
   "id": "8a120552-8d46-4165-b0dd-f65ada630f6f",
   "metadata": {},
   "outputs": [
    {
     "data": {
      "text/plain": [
       "\n",
       "\tHausman Test\n",
       "\n",
       "data:  gdpcapita ~ CarbonIntensity\n",
       "chisq = 0.14457, df = 1, p-value = 0.7038\n",
       "alternative hypothesis: one model is inconsistent\n"
      ]
     },
     "metadata": {},
     "output_type": "display_data"
    }
   ],
   "source": [
    "phtest(fe_gdp_plm, re_gdp_plm)"
   ]
  },
  {
   "cell_type": "markdown",
   "id": "81fa89d9-818c-4735-baf8-f633bac46bed",
   "metadata": {},
   "source": [
    "The p-value is high so we select the random effects model once again.\n"
   ]
  },
  {
   "cell_type": "code",
   "execution_count": null,
   "id": "a2736bfa-8bd0-4e27-8a00-b14d7e26d764",
   "metadata": {},
   "outputs": [],
   "source": []
  }
 ],
 "metadata": {
  "kernelspec": {
   "display_name": "R",
   "language": "R",
   "name": "ir"
  },
  "language_info": {
   "codemirror_mode": "r",
   "file_extension": ".r",
   "mimetype": "text/x-r-source",
   "name": "R",
   "pygments_lexer": "r",
   "version": "4.0.5"
  }
 },
 "nbformat": 4,
 "nbformat_minor": 5
}
